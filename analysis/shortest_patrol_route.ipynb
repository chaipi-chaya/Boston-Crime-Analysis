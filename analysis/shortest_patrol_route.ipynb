{
 "cells": [
  {
   "cell_type": "markdown",
   "metadata": {},
   "source": [
    "## Patrol Route Optimization\n",
    "In this analysis, we use the model called travelling salesman problem to find the shortest patrol route.\n",
    "The model will find the shortest route from one location, travel all location we need and return to the same origin.\n",
    "For more information and mathematical background of this model, please visit this [link](https://en.wikipedia.org/wiki/Travelling_salesman_problem)<br/>"
   ]
  },
  {
   "cell_type": "markdown",
   "metadata": {},
   "source": [
    "- Load data from the csv file."
   ]
  },
  {
   "cell_type": "code",
   "execution_count": 1,
   "metadata": {
    "scrolled": true
   },
   "outputs": [
    {
     "name": "stdout",
     "output_type": "stream",
     "text": [
      "strat date: 2015-06-15 00:00:00\n",
      "end date: 2019-11-15 23:59:00\n"
     ]
    },
    {
     "data": {
      "text/html": [
       "<div>\n",
       "<style scoped>\n",
       "    .dataframe tbody tr th:only-of-type {\n",
       "        vertical-align: middle;\n",
       "    }\n",
       "\n",
       "    .dataframe tbody tr th {\n",
       "        vertical-align: top;\n",
       "    }\n",
       "\n",
       "    .dataframe thead th {\n",
       "        text-align: right;\n",
       "    }\n",
       "</style>\n",
       "<table border=\"1\" class=\"dataframe\">\n",
       "  <thead>\n",
       "    <tr style=\"text-align: right;\">\n",
       "      <th></th>\n",
       "      <th>OFFENSE_CODE</th>\n",
       "      <th>OFFENSE_CODE_GROUP</th>\n",
       "      <th>OFFENSE_DESCRIPTION</th>\n",
       "      <th>DISTRICT</th>\n",
       "      <th>OCCURRED_ON_DATE</th>\n",
       "      <th>DAY_OF_WEEK</th>\n",
       "      <th>Lat</th>\n",
       "      <th>Long</th>\n",
       "      <th>DATE</th>\n",
       "      <th>TIME</th>\n",
       "      <th>SNOW</th>\n",
       "      <th>TAVG</th>\n",
       "    </tr>\n",
       "  </thead>\n",
       "  <tbody>\n",
       "    <tr>\n",
       "      <th>0</th>\n",
       "      <td>3005</td>\n",
       "      <td>NaN</td>\n",
       "      <td>SICK ASSIST</td>\n",
       "      <td>E13</td>\n",
       "      <td>2019-11-05 18:00:00</td>\n",
       "      <td>Tuesday</td>\n",
       "      <td>42.314621</td>\n",
       "      <td>-71.106409</td>\n",
       "      <td>2019-11-05</td>\n",
       "      <td>18:00:00</td>\n",
       "      <td>0.0</td>\n",
       "      <td>52.0</td>\n",
       "    </tr>\n",
       "    <tr>\n",
       "      <th>1</th>\n",
       "      <td>1402</td>\n",
       "      <td>NaN</td>\n",
       "      <td>VANDALISM</td>\n",
       "      <td>E18</td>\n",
       "      <td>2019-11-02 05:09:00</td>\n",
       "      <td>Saturday</td>\n",
       "      <td>42.262897</td>\n",
       "      <td>-71.118855</td>\n",
       "      <td>2019-11-02</td>\n",
       "      <td>05:09:00</td>\n",
       "      <td>0.0</td>\n",
       "      <td>45.0</td>\n",
       "    </tr>\n",
       "    <tr>\n",
       "      <th>2</th>\n",
       "      <td>724</td>\n",
       "      <td>Auto Theft</td>\n",
       "      <td>AUTO THEFT</td>\n",
       "      <td>E18</td>\n",
       "      <td>2019-10-13 09:28:24</td>\n",
       "      <td>Sunday</td>\n",
       "      <td>42.259518</td>\n",
       "      <td>-71.121563</td>\n",
       "      <td>2019-10-13</td>\n",
       "      <td>09:28:24</td>\n",
       "      <td>0.0</td>\n",
       "      <td>59.0</td>\n",
       "    </tr>\n",
       "    <tr>\n",
       "      <th>3</th>\n",
       "      <td>724</td>\n",
       "      <td>Auto Theft</td>\n",
       "      <td>AUTO THEFT</td>\n",
       "      <td>E18</td>\n",
       "      <td>2019-10-12 20:11:26</td>\n",
       "      <td>Saturday</td>\n",
       "      <td>42.262092</td>\n",
       "      <td>-71.116710</td>\n",
       "      <td>2019-10-12</td>\n",
       "      <td>20:11:26</td>\n",
       "      <td>0.0</td>\n",
       "      <td>56.0</td>\n",
       "    </tr>\n",
       "    <tr>\n",
       "      <th>4</th>\n",
       "      <td>727</td>\n",
       "      <td>Auto Theft</td>\n",
       "      <td>AUTO THEFT - LEASED/RENTED VEHICLE</td>\n",
       "      <td>D14</td>\n",
       "      <td>2019-10-12 15:12:43</td>\n",
       "      <td>Saturday</td>\n",
       "      <td>42.352375</td>\n",
       "      <td>-71.135096</td>\n",
       "      <td>2019-10-12</td>\n",
       "      <td>15:12:43</td>\n",
       "      <td>0.0</td>\n",
       "      <td>56.0</td>\n",
       "    </tr>\n",
       "  </tbody>\n",
       "</table>\n",
       "</div>"
      ],
      "text/plain": [
       "   OFFENSE_CODE OFFENSE_CODE_GROUP                 OFFENSE_DESCRIPTION  \\\n",
       "0          3005                NaN                         SICK ASSIST   \n",
       "1          1402                NaN                           VANDALISM   \n",
       "2           724         Auto Theft                          AUTO THEFT   \n",
       "3           724         Auto Theft                          AUTO THEFT   \n",
       "4           727         Auto Theft  AUTO THEFT - LEASED/RENTED VEHICLE   \n",
       "\n",
       "  DISTRICT    OCCURRED_ON_DATE DAY_OF_WEEK        Lat       Long       DATE  \\\n",
       "0      E13 2019-11-05 18:00:00     Tuesday  42.314621 -71.106409 2019-11-05   \n",
       "1      E18 2019-11-02 05:09:00    Saturday  42.262897 -71.118855 2019-11-02   \n",
       "2      E18 2019-10-13 09:28:24      Sunday  42.259518 -71.121563 2019-10-13   \n",
       "3      E18 2019-10-12 20:11:26    Saturday  42.262092 -71.116710 2019-10-12   \n",
       "4      D14 2019-10-12 15:12:43    Saturday  42.352375 -71.135096 2019-10-12   \n",
       "\n",
       "       TIME  SNOW  TAVG  \n",
       "0  18:00:00   0.0  52.0  \n",
       "1  05:09:00   0.0  45.0  \n",
       "2  09:28:24   0.0  59.0  \n",
       "3  20:11:26   0.0  56.0  \n",
       "4  15:12:43   0.0  56.0  "
      ]
     },
     "execution_count": 1,
     "metadata": {},
     "output_type": "execute_result"
    }
   ],
   "source": [
    "import pandas as pd\n",
    "\n",
    "crime = pd.read_csv('../data/crimeandweather.csv')\n",
    "crime['OCCURRED_ON_DATE'] = pd.to_datetime(crime['OCCURRED_ON_DATE'])\n",
    "crime['DATE'] = pd.to_datetime(crime['DATE'])\n",
    "crime['Lat'] = pd.to_numeric(crime['Lat'])\n",
    "crime['Long'] = pd.to_numeric(crime['Long'])\n",
    "print(\"strat date:\", crime['OCCURRED_ON_DATE'].min())\n",
    "print(\"end date:\", crime['OCCURRED_ON_DATE'].max())\n",
    "crime.head()"
   ]
  },
  {
   "cell_type": "markdown",
   "metadata": {},
   "source": [
    "We interested in district B2 bacause it has a highest rate of crime.<br/>\n",
    "We need to find locations that have high rate of crime with in B2,<br/>\n",
    "so we round the latitute and longtitute of each location in B2 to 2 decimal points, this works as an aggregation.<br/>"
   ]
  },
  {
   "cell_type": "markdown",
   "metadata": {},
   "source": [
    " "
   ]
  },
  {
   "cell_type": "markdown",
   "metadata": {},
   "source": [
    "- Aggregate the locations and plot."
   ]
  },
  {
   "cell_type": "code",
   "execution_count": 2,
   "metadata": {},
   "outputs": [
    {
     "data": {
      "text/plain": [
       "<function matplotlib.pyplot.show(*args, **kw)>"
      ]
     },
     "execution_count": 2,
     "metadata": {},
     "output_type": "execute_result"
    },
    {
     "data": {
      "image/png": "[encoded data removed]",
      "text/plain": [
       "<Figure size 1440x720 with 1 Axes>"
      ]
     },
     "metadata": {
      "needs_background": "light"
     },
     "output_type": "display_data"
    }
   ],
   "source": [
    "crime['gLat'] = crime[crime['DISTRICT'] == 'B2']['Lat'].apply(lambda x : str(round(x,2)))\n",
    "crime['gLong'] = crime[crime['DISTRICT'] == 'B2']['Long'].apply(lambda x : str(round(x,2)))\n",
    "crime['gloc'] = crime['gLat'] + ',' + crime['gLong']\n",
    "count = crime['gloc'].value_counts(sort=False)\n",
    "\n",
    "import matplotlib.pyplot as plt\n",
    "%matplotlib inline\n",
    "th = 3000\n",
    "plt.figure(figsize=(20,10))\n",
    "plt.axhline(y=th, color='red')\n",
    "plt.bar(count.index,count.values, 0.5)\n",
    "plt.show"
   ]
  },
  {
   "cell_type": "markdown",
   "metadata": {},
   "source": [
    "We select the eight highest crime locations, these will be the places for police to patrol."
   ]
  },
  {
   "cell_type": "markdown",
   "metadata": {},
   "source": [
    "- Find the eight most highest crime locations."
   ]
  },
  {
   "cell_type": "code",
   "execution_count": 3,
   "metadata": {},
   "outputs": [
    {
     "name": "stdout",
     "output_type": "stream",
     "text": [
      "['42.328491,-71.085709', '42.31,-71.08', '42.31,-71.09', '42.32,-71.07', '42.32,-71.08', '42.32,-71.09', '42.33,-71.08', '42.33,-71.09', '42.33,-71.1']\n"
     ]
    }
   ],
   "source": [
    "loc = []\n",
    "n = 0\n",
    "for i, c in enumerate(count):\n",
    "    if c > 3000:\n",
    "        n += 1\n",
    "        loc.append(count.index[i])\n",
    "loc = sorted(loc)\n",
    "loc.insert(0, '42.328491,-71.085709') # location of police station\n",
    "print(loc)"
   ]
  },
  {
   "cell_type": "markdown",
   "metadata": {},
   "source": [
    "All location can be found in this [link](https://www.google.com/maps/dir/42.3284910,+-71.0857090/'42.33,-71.08'/'42.32,-71.07'/'42.32,-71.08'/'42.31,-71.08'/42.31,-71.09%09/'42.32,-71.09'/'42.33,-71.1'/'42.33,-71.09'/42.3284910,+-71.0857090/@42.3215348,-71.097696,14.52z/data=!4m42!4m41!1m3!2m2!1d-71.085709!2d42.328491!1m3!2m2!1d-71.08!2d42.33!1m3!2m2!1d-71.07!2d42.32!1m3!2m2!1d-71.08!2d42.32!1m3!2m2!1d-71.08!2d42.31!1m3!2m2!1d-71.09!2d42.31!1m3!2m2!1d-71.09!2d42.32!1m3!2m2!1d-71.1!2d42.33!1m3!2m2!1d-71.09!2d42.33!1m3!2m2!1d-71.085709!2d42.328491!3e0)"
   ]
  },
  {
   "cell_type": "markdown",
   "metadata": {},
   "source": [
    "### Linear Programming Formulations\n",
    "We use Dantzig-Fulkerson-Johnson formulation for this case.\n",
    "you can find more information in this [link](https://en.wikipedia.org/wiki/Travelling_salesman_problem)"
   ]
  },
  {
   "cell_type": "markdown",
   "metadata": {},
   "source": [
    "Variables (image from wikipedia): \n",
    "![alt text](https://wikimedia.org/api/rest_v1/media/math/render/svg/210952104494d8add3acf817d00c2a1be0c97a81 \"Variables\")\n",
    "In out case, x is the path from location i to location j"
   ]
  },
  {
   "cell_type": "markdown",
   "metadata": {},
   "source": [
    "Objective and constrain (image from wikipedia):\n",
    "![alt text](https://wikimedia.org/api/rest_v1/media/math/render/svg/6a905ac6dc7f1f81c901a8c3680e5951d273d21f \"Opjective and constrain\")\n",
    "Where c is a distance between location i to location j.<br/>\n",
    "The last line is for making sure that there is no sub-route."
   ]
  },
  {
   "cell_type": "markdown",
   "metadata": {},
   "source": [
    "Then we need to find the distance between each location, we use google map to find the distances."
   ]
  },
  {
   "cell_type": "markdown",
   "metadata": {},
   "source": [
    "- Create the matrix of distances."
   ]
  },
  {
   "cell_type": "code",
   "execution_count": 4,
   "metadata": {},
   "outputs": [
    {
     "data": {
      "text/html": [
       "<div>\n",
       "<style scoped>\n",
       "    .dataframe tbody tr th:only-of-type {\n",
       "        vertical-align: middle;\n",
       "    }\n",
       "\n",
       "    .dataframe tbody tr th {\n",
       "        vertical-align: top;\n",
       "    }\n",
       "\n",
       "    .dataframe thead th {\n",
       "        text-align: right;\n",
       "    }\n",
       "</style>\n",
       "<table border=\"1\" class=\"dataframe\">\n",
       "  <thead>\n",
       "    <tr style=\"text-align: right;\">\n",
       "      <th></th>\n",
       "      <th>loc</th>\n",
       "      <th>0</th>\n",
       "      <th>1</th>\n",
       "      <th>2</th>\n",
       "      <th>3</th>\n",
       "      <th>4</th>\n",
       "      <th>5</th>\n",
       "      <th>6</th>\n",
       "      <th>7</th>\n",
       "      <th>8</th>\n",
       "    </tr>\n",
       "  </thead>\n",
       "  <tbody>\n",
       "    <tr>\n",
       "      <th>0</th>\n",
       "      <td>42.328491,-71.085709</td>\n",
       "      <td>0.000000</td>\n",
       "      <td>0.019352</td>\n",
       "      <td>0.018982</td>\n",
       "      <td>0.017857</td>\n",
       "      <td>0.010232</td>\n",
       "      <td>0.009514</td>\n",
       "      <td>0.005905</td>\n",
       "      <td>0.004549</td>\n",
       "      <td>0.014370</td>\n",
       "    </tr>\n",
       "    <tr>\n",
       "      <th>1</th>\n",
       "      <td>42.31,-71.08</td>\n",
       "      <td>0.019352</td>\n",
       "      <td>0.000000</td>\n",
       "      <td>0.010000</td>\n",
       "      <td>0.014142</td>\n",
       "      <td>0.010000</td>\n",
       "      <td>0.014142</td>\n",
       "      <td>0.020000</td>\n",
       "      <td>0.022361</td>\n",
       "      <td>0.028284</td>\n",
       "    </tr>\n",
       "    <tr>\n",
       "      <th>2</th>\n",
       "      <td>42.31,-71.09</td>\n",
       "      <td>0.018982</td>\n",
       "      <td>0.010000</td>\n",
       "      <td>0.000000</td>\n",
       "      <td>0.022361</td>\n",
       "      <td>0.014142</td>\n",
       "      <td>0.010000</td>\n",
       "      <td>0.022361</td>\n",
       "      <td>0.020000</td>\n",
       "      <td>0.022361</td>\n",
       "    </tr>\n",
       "    <tr>\n",
       "      <th>3</th>\n",
       "      <td>42.32,-71.07</td>\n",
       "      <td>0.017857</td>\n",
       "      <td>0.014142</td>\n",
       "      <td>0.022361</td>\n",
       "      <td>0.000000</td>\n",
       "      <td>0.010000</td>\n",
       "      <td>0.020000</td>\n",
       "      <td>0.014142</td>\n",
       "      <td>0.022361</td>\n",
       "      <td>0.031623</td>\n",
       "    </tr>\n",
       "    <tr>\n",
       "      <th>4</th>\n",
       "      <td>42.32,-71.08</td>\n",
       "      <td>0.010232</td>\n",
       "      <td>0.010000</td>\n",
       "      <td>0.014142</td>\n",
       "      <td>0.010000</td>\n",
       "      <td>0.000000</td>\n",
       "      <td>0.010000</td>\n",
       "      <td>0.010000</td>\n",
       "      <td>0.014142</td>\n",
       "      <td>0.022361</td>\n",
       "    </tr>\n",
       "    <tr>\n",
       "      <th>5</th>\n",
       "      <td>42.32,-71.09</td>\n",
       "      <td>0.009514</td>\n",
       "      <td>0.014142</td>\n",
       "      <td>0.010000</td>\n",
       "      <td>0.020000</td>\n",
       "      <td>0.010000</td>\n",
       "      <td>0.000000</td>\n",
       "      <td>0.014142</td>\n",
       "      <td>0.010000</td>\n",
       "      <td>0.014142</td>\n",
       "    </tr>\n",
       "    <tr>\n",
       "      <th>6</th>\n",
       "      <td>42.33,-71.08</td>\n",
       "      <td>0.005905</td>\n",
       "      <td>0.020000</td>\n",
       "      <td>0.022361</td>\n",
       "      <td>0.014142</td>\n",
       "      <td>0.010000</td>\n",
       "      <td>0.014142</td>\n",
       "      <td>0.000000</td>\n",
       "      <td>0.010000</td>\n",
       "      <td>0.020000</td>\n",
       "    </tr>\n",
       "    <tr>\n",
       "      <th>7</th>\n",
       "      <td>42.33,-71.09</td>\n",
       "      <td>0.004549</td>\n",
       "      <td>0.022361</td>\n",
       "      <td>0.020000</td>\n",
       "      <td>0.022361</td>\n",
       "      <td>0.014142</td>\n",
       "      <td>0.010000</td>\n",
       "      <td>0.010000</td>\n",
       "      <td>0.000000</td>\n",
       "      <td>0.010000</td>\n",
       "    </tr>\n",
       "    <tr>\n",
       "      <th>8</th>\n",
       "      <td>42.33,-71.1</td>\n",
       "      <td>0.014370</td>\n",
       "      <td>0.028284</td>\n",
       "      <td>0.022361</td>\n",
       "      <td>0.031623</td>\n",
       "      <td>0.022361</td>\n",
       "      <td>0.014142</td>\n",
       "      <td>0.020000</td>\n",
       "      <td>0.010000</td>\n",
       "      <td>0.000000</td>\n",
       "    </tr>\n",
       "  </tbody>\n",
       "</table>\n",
       "</div>"
      ],
      "text/plain": [
       "                    loc         0         1         2         3         4  \\\n",
       "0  42.328491,-71.085709  0.000000  0.019352  0.018982  0.017857  0.010232   \n",
       "1          42.31,-71.08  0.019352  0.000000  0.010000  0.014142  0.010000   \n",
       "2          42.31,-71.09  0.018982  0.010000  0.000000  0.022361  0.014142   \n",
       "3          42.32,-71.07  0.017857  0.014142  0.022361  0.000000  0.010000   \n",
       "4          42.32,-71.08  0.010232  0.010000  0.014142  0.010000  0.000000   \n",
       "5          42.32,-71.09  0.009514  0.014142  0.010000  0.020000  0.010000   \n",
       "6          42.33,-71.08  0.005905  0.020000  0.022361  0.014142  0.010000   \n",
       "7          42.33,-71.09  0.004549  0.022361  0.020000  0.022361  0.014142   \n",
       "8           42.33,-71.1  0.014370  0.028284  0.022361  0.031623  0.022361   \n",
       "\n",
       "          5         6         7         8  \n",
       "0  0.009514  0.005905  0.004549  0.014370  \n",
       "1  0.014142  0.020000  0.022361  0.028284  \n",
       "2  0.010000  0.022361  0.020000  0.022361  \n",
       "3  0.020000  0.014142  0.022361  0.031623  \n",
       "4  0.010000  0.010000  0.014142  0.022361  \n",
       "5  0.000000  0.014142  0.010000  0.014142  \n",
       "6  0.014142  0.000000  0.010000  0.020000  \n",
       "7  0.010000  0.010000  0.000000  0.010000  \n",
       "8  0.014142  0.020000  0.010000  0.000000  "
      ]
     },
     "execution_count": 4,
     "metadata": {},
     "output_type": "execute_result"
    }
   ],
   "source": [
    "import numpy as np\n",
    "\n",
    "nmap = pd.DataFrame()\n",
    "nmap['loc'] = loc\n",
    "\n",
    "for i in range(len(loc)):\n",
    "    dist = []\n",
    "    for j in range(len(loc)):\n",
    "        x1 = float(loc[i].split(',')[0])\n",
    "        y1 = float(loc[i].split(',')[1])\n",
    "        x2 = float(loc[j].split(',')[0])\n",
    "        y2 = float(loc[j].split(',')[1])\n",
    "        dist.append(np.sqrt((x1-x2)**2 + (y1-y2)**2))\n",
    "    nmap[str(i)] = pd.Series(dist).values\n",
    "        \n",
    "nmap"
   ]
  },
  {
   "cell_type": "markdown",
   "metadata": {},
   "source": [
    "Note that 0 is the location of the police station.<br/>\n",
    "Since we have only eight locations, the combination of all possible routes is 8! or 40,320.<br/>\n",
    "This number is small, so we can use Exact algorithms to find the best route."
   ]
  },
  {
   "cell_type": "markdown",
   "metadata": {},
   "source": [
    "- Find the all possible route"
   ]
  },
  {
   "cell_type": "code",
   "execution_count": 5,
   "metadata": {},
   "outputs": [
    {
     "name": "stdout",
     "output_type": "stream",
     "text": [
      "(1, 2, 3, 4, 5, 6, 7, 8)\n",
      "(1, 4, 7, 6, 3, 5, 2, 8)\n",
      "(1, 7, 5, 3, 6, 8, 2, 4)\n",
      "(2, 3, 5, 1, 4, 6, 7, 8)\n",
      "(2, 6, 1, 7, 4, 5, 3, 8)\n",
      "(2, 8, 7, 3, 5, 6, 1, 4)\n",
      "(3, 4, 7, 1, 2, 5, 6, 8)\n",
      "(3, 7, 4, 6, 2, 5, 1, 8)\n",
      "(4, 2, 3, 5, 7, 8, 1, 6)\n",
      "(4, 6, 1, 2, 3, 5, 7, 8)\n",
      "(4, 8, 6, 5, 2, 3, 1, 7)\n",
      "(5, 3, 6, 2, 7, 8, 1, 4)\n",
      "(5, 7, 3, 1, 2, 4, 6, 8)\n",
      "(6, 2, 1, 7, 4, 5, 3, 8)\n",
      "(6, 4, 8, 2, 5, 7, 1, 3)\n",
      "(6, 8, 5, 1, 2, 3, 4, 7)\n",
      "(7, 3, 4, 6, 2, 5, 1, 8)\n",
      "(7, 6, 2, 3, 5, 8, 1, 4)\n",
      "(8, 2, 1, 3, 4, 5, 6, 7)\n",
      "(8, 4, 6, 5, 2, 3, 1, 7)\n",
      "(8, 7, 4, 2, 5, 6, 1, 3)\n"
     ]
    }
   ],
   "source": [
    "from itertools import permutations\n",
    "\n",
    "ways = list(permutations([1,2,3,4,5,6,7,8], 8))\n",
    "\n",
    "for i in range(len(ways)):\n",
    "    if i % 2000 == 0:\n",
    "        print(ways[i])"
   ]
  },
  {
   "cell_type": "markdown",
   "metadata": {},
   "source": [
    "These are sample routes. "
   ]
  },
  {
   "cell_type": "markdown",
   "metadata": {},
   "source": [
    "We will go through all possible routes and calculate the distance of each route,<br/>\n",
    "and save the route that has the minimum distance."
   ]
  },
  {
   "cell_type": "code",
   "execution_count": 6,
   "metadata": {},
   "outputs": [
    {
     "name": "stdout",
     "output_type": "stream",
     "text": [
      "shortest path: (6, 3, 4, 1, 2, 5, 8, 7)\n",
      "shortest distance: 0.08873793365626632\n"
     ]
    }
   ],
   "source": [
    "mindist = 1000\n",
    "minway = ()\n",
    "for way in ways:\n",
    "    dist = 0\n",
    "    # add distance from 0 to first node\n",
    "    dist += nmap[str(way[0])][0]\n",
    "    for i in range(7):\n",
    "        dist += nmap[str(way[i+1])][way[i]]\n",
    "    # add distance from last node to 0\n",
    "    dist += nmap['0'][way[7]]\n",
    "    if dist < mindist:\n",
    "        mindist = dist\n",
    "        minway = way\n",
    "        \n",
    "print('shortest path:', minway)\n",
    "print('shortest distance:', mindist)"
   ]
  }
 ],
 "metadata": {
  "kernelspec": {
   "display_name": "Python 3",
   "language": "python",
   "name": "python3"
  },
  "language_info": {
   "codemirror_mode": {
    "name": "ipython",
    "version": 3
   },
   "file_extension": ".py",
   "mimetype": "text/x-python",
   "name": "python",
   "nbconvert_exporter": "python",
   "pygments_lexer": "ipython3",
   "version": "3.7.3"
  }
 },
 "nbformat": 4,
 "nbformat_minor": 2
}
