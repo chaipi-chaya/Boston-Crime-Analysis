{
 "cells": [
  {
   "cell_type": "markdown",
   "metadata": {},
   "source": [
    "## Code Explanation"
   ]
  },
  {
   "cell_type": "markdown",
   "metadata": {},
   "source": [
    "We use flask library to create we application for explain data analysis process, show api demo and create restful api.<br/>\n",
    "We will explain the code in app.py part by part."
   ]
  },
  {
   "cell_type": "markdown",
   "metadata": {},
   "source": [
    "- Import libraries and initiate web application"
   ]
  },
  {
   "cell_type": "code",
   "execution_count": null,
   "metadata": {},
   "outputs": [],
   "source": [
    "from flask import Flask\n",
    "from flask import render_template\n",
    "from flask import request,session, redirect, url_for, escape,send_from_directory\n",
    "from flask_cors import CORS\n",
    "import requests\n",
    "import json\n",
    "\n",
    "app = Flask(__name__, static_url_path='')\n",
    "CORS(app)"
   ]
  },
  {
   "cell_type": "markdown",
   "metadata": {},
   "source": [
    "- Define a function<br/>\n",
    "We will use a lot of prediction so we better create a function"
   ]
  },
  {
   "cell_type": "markdown",
   "metadata": {},
   "source": [
    "This function takes values of average temperature, model parameters and degrees of polynomial regression.<br/>\n",
    "We use two models for prediction. The third degree polynomial regression is for predicting when the temperature is below 25.<br/>\n",
    "The fourth degree polynomial regression is for predicting when the temperature is above 25.<br/>\n",
    "The function will check the degree and create the polynomial equation for the degree.<br/>\n",
    "Then return the prediction of the temperature."
   ]
  },
  {
   "cell_type": "code",
   "execution_count": null,
   "metadata": {},
   "outputs": [],
   "source": [
    "def predictor(tavg, model, degree):\n",
    "    # check the degree and create the equation from the model\n",
    "    if degree == 3:\n",
    "        y = model['coef'][0][3]*(tavg**3) + \\\n",
    "            model['coef'][0][2]*(tavg**2) + \\\n",
    "            model['coef'][0][1]*(tavg) + \\\n",
    "            model['intercept'][0]\n",
    "    if degree == 4:\n",
    "        y = model['coef'][0][4]*(tavg**4) + \\\n",
    "            model['coef'][0][3]*(tavg**3) + \\\n",
    "            model['coef'][0][2]*(tavg**2) + \\\n",
    "            model['coef'][0][1]*(tavg) + \\\n",
    "            model['intercept'][0]\n",
    "    # return the prediction\n",
    "    return round(y,0)"
   ]
  },
  {
   "cell_type": "markdown",
   "metadata": {},
   "source": [
    "- Create routes for data analysis pages"
   ]
  },
  {
   "cell_type": "markdown",
   "metadata": {},
   "source": [
    "We create the html pages for showing our data preprocess and analysis."
   ]
  },
  {
   "cell_type": "code",
   "execution_count": null,
   "metadata": {},
   "outputs": [],
   "source": [
    "@app.route(\"/\", methods=['GET','POST'])\n",
    "def start():\n",
    "    # this is home page\n",
    "    return render_template('index.html')\n",
    "\n",
    "@app.route(\"/code_explanation\", methods=['GET','POST'])\n",
    "def explanation():\n",
    "    # this for code_explanation.ipynb\n",
    "    return render_template('code_explanation.html')\n",
    "\n",
    "@app.route(\"/web_scraping\", methods=['GET','POST'])\n",
    "def scraping():\n",
    "    # this for web_scraping.ipynb\n",
    "    return render_template('web_scraping.html')\n",
    "\n",
    "@app.route(\"/preprocessing\", methods=['GET','POST'])\n",
    "def preprocessing():\n",
    "    # this for data_preprocess.ipynb\n",
    "    return render_template('data_preprocess.html')\n",
    "\n",
    "@app.route(\"/analyzing\", methods=['GET','POST'])\n",
    "def analyzing():\n",
    "    # this for data_analysis_overall.ipynb\n",
    "    return render_template('data_analysis_overall.html')\n",
    "    \n",
    "@app.route(\"/regression\", methods=['GET','POST'])\n",
    "def regression():\n",
    "    # this for regression_analysis.ipynb\n",
    "    return render_template('regression_analysis.html')\n",
    "    \n",
    "@app.route(\"/pattern\", methods=['GET','POST'])\n",
    "def pattern():\n",
    "    # this for crime_pattern_analysis.ipynb\n",
    "    return render_template('crime_pattern_analysis.html')\n",
    "    \n",
    "@app.route(\"/short_patrol\", methods=['GET','POST'])\n",
    "def short_patrol():\n",
    "    # this for shortest_patrol_route.ipynb\n",
    "    return render_template('shortest_patrol_route.html')"
   ]
  },
  {
   "cell_type": "markdown",
   "metadata": {},
   "source": [
    "- Create routes for demonstate the model"
   ]
  },
  {
   "cell_type": "markdown",
   "metadata": {},
   "source": [
    "We also have an interface for our model, and we use javascript to create interface and graph. <br/>"
   ]
  },
  {
   "cell_type": "code",
   "execution_count": null,
   "metadata": {},
   "outputs": [],
   "source": [
    "# this route for markov chain\n",
    "@app.route(\"/markov_chain_demo\", methods=['GET','POST'])\n",
    "def mcdemo():\n",
    "    # load data from txt file\n",
    "    file = open(\"model/MC_and_lamda.txt\",\"r\") \n",
    "    # change string to dictionary\n",
    "    data = json.loads(file.read())\n",
    "    # rander the template and send the data to the page\n",
    "    return render_template('markov_chain_demo.html', data = data)\n",
    "  \n",
    "# this route for api document and example\n",
    "@app.route(\"/regression_api\", methods=['GET','POST'])\n",
    "def regression_api():\n",
    "    # just normal rander, this page have code in javascript that send request to predict_crime_by_temp route\n",
    "    return render_template('regression_api.html')"
   ]
  },
  {
   "cell_type": "markdown",
   "metadata": {},
   "source": [
    "- Create an api for prediction"
   ]
  },
  {
   "cell_type": "markdown",
   "metadata": {},
   "source": [
    "We create an api route that takes one parameter which is temperature and returns the rate of crime.<br/>\n",
    "This api is for both users and us to send the requests.<br/>\n",
    "In our demonstration, we use javascript to set the request to api below."
   ]
  },
  {
   "cell_type": "code",
   "execution_count": null,
   "metadata": {},
   "outputs": [],
   "source": [
    "@app.route(\"/predict_crime_by_temp\", methods=['GET','POST'])\n",
    "def perdict():\n",
    "    # get parameter\n",
    "    temp = request.args.get('temp')\n",
    "    # if no parameter return error\n",
    "    if temp == None:\n",
    "        return \"error: no input\"\n",
    "    # load model\n",
    "    file = open(\"model/regression.txt\",\"r\") \n",
    "    models = json.loads(file.read())\n",
    "    # we have two model for the prediction which indicate by temperature\n",
    "    # if temperature is above 25, we use the fourth polynomial regression model\n",
    "    if float(temp) >= 25:\n",
    "        degree = 4\n",
    "        model = models['regressorpoly4']\n",
    "    # otherwise, we use the third polynomial regression model\n",
    "    else :\n",
    "        degree = 3\n",
    "        model = models['regressorpoly325']\n",
    "    # call function predictor and return the result of the function\n",
    "    return str(predictor(float(temp), model, degree)"
   ]
  },
  {
   "cell_type": "markdown",
   "metadata": {},
   "source": [
    "- Create the route for forecast rate of crime page"
   ]
  },
  {
   "cell_type": "markdown",
   "metadata": {},
   "source": [
    "We use web scraping to get the forecast temperature from weather.com website.<br/>\n",
    "For more detail on web scraping, please visit web scraping page.<br/>\n",
    "Then we load the models and check the temperature, so we can use the appropriate model.<br/>\n",
    "In the end, we send days, temperature, and predicted the rate of crime to the front-end side and use javascript the create a graph."
   ]
  },
  {
   "cell_type": "code",
   "execution_count": null,
   "metadata": {},
   "outputs": [],
   "source": [
    "@app.route(\"/crime_forecast\", methods=['GET','POST'])\n",
    "def forecast():\n",
    "\n",
    "    from bs4 import BeautifulSoup\n",
    "    \n",
    "    page=requests.get(\"https://weather.com/weather/tenday/l/Boston+MA?canonicalCityId=6320cadd3d539b434b5a45c094becf3edbe8ea88958185a2287a801115c9ae30\")\n",
    "    content=page.content\n",
    "    soup=BeautifulSoup(content,\"html.parser\")\n",
    "    conditions=[]\n",
    "    all=soup.find(\"div\",{\"class\":\"locations-title ten-day-page-title\"}).find(\"h1\").text\n",
    "     \n",
    "    table=soup.find_all(\"table\",{\"class\":\"twc-table\"})\n",
    "    for items in table:\n",
    "        for i in range(len(items.find_all(\"tr\"))-1):\n",
    "            d = {}\n",
    "            try:\n",
    "                d[\"day\"]=items.find_all(\"span\",{\"class\":\"date-time\"})[i].text\n",
    "                d[\"date\"]=items.find_all(\"span\",{\"class\":\"day-detail\"})[i].text\t\t\t\n",
    "                d[\"desc\"]=items.find_all(\"td\",{\"class\":\"description\"})[i].text\n",
    "                d[\"temp\"]=items.find_all(\"td\",{\"class\":\"temp\"})[i].text\n",
    "                d[\"precip\"]=items.find_all(\"td\",{\"class\":\"precip\"})[i].text\n",
    "                d[\"wind\"]=items.find_all(\"td\",{\"class\":\"wind\"})[i].text\n",
    "                d[\"humidity\"]=items.find_all(\"td\",{\"class\":\"humidity\"})[i].text\n",
    "            except:\n",
    "                d[\"day\"]=\"None\"\n",
    "                d[\"date\"]=\"None\"\n",
    "                d[\"desc\"]=\"None\"\n",
    "                d[\"temp\"]=\"None\"\n",
    "                d[\"precip\"]=\"None\"\n",
    "                d[\"wind\"]=\"None\"\n",
    "                d[\"humidity\"]=\"None\"\n",
    "                \n",
    "            conditions.append(d)\n",
    "    \n",
    "    crimes = []\n",
    "    temps = []\n",
    "    days = []\n",
    "    file = open(\"model/regression.txt\",\"r\") \n",
    "    models = json.loads(file.read())\n",
    "    n = 0\n",
    "    for i in conditions:\n",
    "        if n == 0:\n",
    "            n += 1\n",
    "            continue\n",
    "        temp = (int(i['temp'].encode('utf-8').split(\"\\xc2\")[0]) + int(i['temp'].encode('utf-8').split(\"\\xc2\")[1][-2:]))/2\n",
    "        if float(temp) >= 25:\n",
    "            degree = 4\n",
    "            model = models['regressorpoly4']\n",
    "        else :\n",
    "            degree = 3\n",
    "            model = models['regressorpoly325']\n",
    "        days.append(i['date'])\n",
    "        temps.append(temp)\n",
    "        crimes.append(float(predictor(float(temp), model, degree)))\n",
    "    return render_template('forecast.html', days = days, temps = temps, crimes = crimes)"
   ]
  },
  {
   "cell_type": "markdown",
   "metadata": {},
   "source": [
    "- Open the web browser autometically after run the application."
   ]
  },
  {
   "cell_type": "code",
   "execution_count": null,
   "metadata": {},
   "outputs": [],
   "source": [
    "import webbrowser\n",
    "webbrowser.open_new_tab(\"http://localhost:5000/\")"
   ]
  },
  {
   "cell_type": "markdown",
   "metadata": {},
   "source": [
    "- Run application and turn on debug option in flask<br/>\n",
    "In real production we will turn off the debug."
   ]
  },
  {
   "cell_type": "code",
   "execution_count": null,
   "metadata": {},
   "outputs": [],
   "source": [
    "if __name__ == \"__main__\":\n",
    "    app.run(host= '127.0.0.1',debug=True)"
   ]
  },
  {
   "cell_type": "markdown",
   "metadata": {},
   "source": [
    "### Overall Code in app.py"
   ]
  },
  {
   "cell_type": "code",
   "execution_count": null,
   "metadata": {},
   "outputs": [],
   "source": [
    "from flask import Flask\n",
    "from flask import render_template\n",
    "from flask import request,session, redirect, url_for, escape,send_from_directory\n",
    "from flask_cors import CORS\n",
    "import requests\n",
    "import json\n",
    "\n",
    "app = Flask(__name__, static_url_path='')\n",
    "CORS(app)\n",
    "    \n",
    "def predictor(tavg, model, degree):\n",
    "    if degree == 3:\n",
    "        y = model['coef'][0][3]*(tavg**3) + \\\n",
    "            model['coef'][0][2]*(tavg**2) + \\\n",
    "            model['coef'][0][1]*(tavg) + \\\n",
    "            model['intercept'][0]\n",
    "    if degree == 4:\n",
    "        y = model['coef'][0][4]*(tavg**4) + \\\n",
    "            model['coef'][0][3]*(tavg**3) + \\\n",
    "            model['coef'][0][2]*(tavg**2) + \\\n",
    "            model['coef'][0][1]*(tavg) + \\\n",
    "            model['intercept'][0]\n",
    "    return round(y,0)\n",
    "\n",
    "@app.route(\"/\", methods=['GET','POST'])\n",
    "def start():\n",
    "    return render_template('index.html')\n",
    "\n",
    "@app.route(\"/code_explanation\", methods=['GET','POST'])\n",
    "def explanation():\n",
    "    return render_template('code_explanation.html')\n",
    "\n",
    "@app.route(\"/web_scraping\", methods=['GET','POST'])\n",
    "def scraping():\n",
    "    return render_template('web_scraping.html')\n",
    "\n",
    "@app.route(\"/preprocessing\", methods=['GET','POST'])\n",
    "def preprocessing():\n",
    "    return render_template('data_preprocess.html')\n",
    "\n",
    "@app.route(\"/analyzing\", methods=['GET','POST'])\n",
    "def analyzing():\n",
    "    return render_template('data_analysis_overall.html')\n",
    "    \n",
    "@app.route(\"/regression\", methods=['GET','POST'])\n",
    "def regression():\n",
    "    return render_template('regression_analysis.html')\n",
    "    \n",
    "@app.route(\"/pattern\", methods=['GET','POST'])\n",
    "def pattern():\n",
    "    return render_template('crime_pattern_analysis.html')\n",
    "    \n",
    "@app.route(\"/short_patrol\", methods=['GET','POST'])\n",
    "def short_patrol():\n",
    "    return render_template('shortest_patrol_route.html')\n",
    "    \n",
    "@app.route(\"/markov_chain_demo\", methods=['GET','POST'])\n",
    "def mcdemo():\n",
    "    file = open(\"model/MC_and_lamda.txt\",\"r\") \n",
    "    data = json.loads(file.read())\n",
    "    return render_template('markov_chain_demo.html', data = data)\n",
    "    \n",
    "@app.route(\"/regression_api\", methods=['GET','POST'])\n",
    "def regression_api():\n",
    "    return render_template('regression_api.html')\n",
    "    \n",
    "    \n",
    "    \n",
    "@app.route(\"/predict_crime_by_temp\", methods=['GET','POST'])\n",
    "def perdict():\n",
    "    # load model\n",
    "    temp = request.args.get('temp')\n",
    "    if temp == None:\n",
    "        return \"error: no input\"\n",
    "    file = open(\"model/regression.txt\",\"r\") \n",
    "    models = json.loads(file.read())\n",
    "    if float(temp) >= 25:\n",
    "        degree = 4\n",
    "        model = models['regressorpoly4']\n",
    "    else :\n",
    "        degree = 3\n",
    "        model = models['regressorpoly325']\n",
    "    return str(predictor(float(temp), model, degree))\n",
    "    \n",
    "    \n",
    "@app.route(\"/crime_forecast\", methods=['GET','POST'])\n",
    "def forecast():\n",
    "\n",
    "    from bs4 import BeautifulSoup\n",
    "    \n",
    "    page=requests.get(\"https://weather.com/weather/tenday/l/Boston+MA?canonicalCityId=6320cadd3d539b434b5a45c094becf3edbe8ea88958185a2287a801115c9ae30\")\n",
    "    content=page.content\n",
    "    soup=BeautifulSoup(content,\"html.parser\")\n",
    "    conditions=[]\n",
    "    all=soup.find(\"div\",{\"class\":\"locations-title ten-day-page-title\"}).find(\"h1\").text\n",
    "     \n",
    "    table=soup.find_all(\"table\",{\"class\":\"twc-table\"})\n",
    "    for items in table:\n",
    "        for i in range(len(items.find_all(\"tr\"))-1):\n",
    "            d = {}\n",
    "            try:\n",
    "                d[\"day\"]=items.find_all(\"span\",{\"class\":\"date-time\"})[i].text\n",
    "                d[\"date\"]=items.find_all(\"span\",{\"class\":\"day-detail\"})[i].text\t\t\t\n",
    "                d[\"desc\"]=items.find_all(\"td\",{\"class\":\"description\"})[i].text\n",
    "                d[\"temp\"]=items.find_all(\"td\",{\"class\":\"temp\"})[i].text\n",
    "                d[\"precip\"]=items.find_all(\"td\",{\"class\":\"precip\"})[i].text\n",
    "                d[\"wind\"]=items.find_all(\"td\",{\"class\":\"wind\"})[i].text\n",
    "                d[\"humidity\"]=items.find_all(\"td\",{\"class\":\"humidity\"})[i].text\n",
    "            except:\n",
    "                d[\"day\"]=\"None\"\n",
    "                d[\"date\"]=\"None\"\n",
    "                d[\"desc\"]=\"None\"\n",
    "                d[\"temp\"]=\"None\"\n",
    "                d[\"precip\"]=\"None\"\n",
    "                d[\"wind\"]=\"None\"\n",
    "                d[\"humidity\"]=\"None\"\n",
    "                \n",
    "            conditions.append(d)\n",
    "    \n",
    "    crimes = []\n",
    "    temps = []\n",
    "    days = []\n",
    "    file = open(\"model/regression.txt\",\"r\") \n",
    "    models = json.loads(file.read())\n",
    "    n = 0\n",
    "    for i in conditions:\n",
    "        if n == 0:\n",
    "            n += 1\n",
    "            continue\n",
    "        temp = (int(i['temp'].encode('utf-8').split(\"\\xc2\")[0]) + int(i['temp'].encode('utf-8').split(\"\\xc2\")[1][-2:]))/2\n",
    "        if float(temp) >= 25:\n",
    "            degree = 4\n",
    "            model = models['regressorpoly4']\n",
    "        else :\n",
    "            degree = 3\n",
    "            model = models['regressorpoly325']\n",
    "        days.append(i['date'])\n",
    "        temps.append(temp)\n",
    "        crimes.append(float(predictor(float(temp), model, degree)))\n",
    "    return render_template('forecast.html', days = days, temps = temps, crimes = crimes)\n",
    "\n",
    "import webbrowser\n",
    "webbrowser.open_new_tab(\"http://localhost:5000/\")\n",
    "\n",
    "if __name__ == \"__main__\":\n",
    "    app.run(host= '127.0.0.1',debug=False)"
   ]
  }
 ],
 "metadata": {
  "kernelspec": {
   "display_name": "Python 3",
   "language": "python",
   "name": "python3"
  },
  "language_info": {
   "codemirror_mode": {
    "name": "ipython",
    "version": 3
   },
   "file_extension": ".py",
   "mimetype": "text/x-python",
   "name": "python",
   "nbconvert_exporter": "python",
   "pygments_lexer": "ipython3",
   "version": "3.7.3"
  }
 },
 "nbformat": 4,
 "nbformat_minor": 2
}
