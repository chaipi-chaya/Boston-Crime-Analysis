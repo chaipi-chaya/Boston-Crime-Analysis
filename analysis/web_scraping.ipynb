{
 "cells": [
  {
   "cell_type": "markdown",
   "metadata": {},
   "source": [
    "## Web Scraping"
   ]
  },
  {
   "cell_type": "markdown",
   "metadata": {},
   "source": [
    "We create this file for testing our web scrapping code because this notebook is easy to debug.<br/>\n",
    "We will explain our code in a comment on the code. <br/> \n",
    "reference link: https://weather.com/weather/tenday/l/Boston+MA?canonicalCityId=6320cadd3d539b434b5a45c094becf3edbe8ea88958185a2287a801115c9ae30"
   ]
  },
  {
   "cell_type": "markdown",
   "metadata": {},
   "source": [
    "- Create request and split the result by line"
   ]
  },
  {
   "cell_type": "code",
   "execution_count": 1,
   "metadata": {},
   "outputs": [
    {
     "data": {
      "text/plain": [
       "['</icon><div class=\"twc-table-shadow sticky\" className=\"twc-table-shadow sticky\"></div></div><span class=\"day-detail clearfix\">DEC 4</span></div></td><td class=\"description\" headers=\"description\" title=\"Cloudy skies early, followed by partial clearing. High near 40F. Winds WSW at 5 to 10 mph.\" data-track-string=\"ls_24_hour_ls_24_hour_toggle\" className=\"description\"><span>AM Clouds/PM Sun</span></td><td class=\"temp\" headers=\"hi-lo\" title=\"Cloudy skies early, followed by partial clearing. High near 40F. Winds WSW at 5 to 10 mph.\" data-track-string=\"ls_24_hour_ls_24_hour_toggle\" className=\"temp\"><div><span class=\"\">40<sup>°</sup></span><span class=\"slash\" className=\"slash\"></span><span class=\"\">30<sup>°</sup></span></div></td><td class=\"precip\" headers=\"precip\" title=\"Cloudy skies early, followed by partial clearing. High near 40F. Winds WSW at 5 to 10 mph.\" data-track-string=\"ls_24_hour_ls_24_hour_toggle\" className=\"precip\"><div><span class=\"icon icon-font iconset-weather-data icon-drop-1\" className=\"icon icon-font iconset-weather-data icon-drop-1\"></span><span class=\"\"><span>10<span class=\"Percentage__percentSymbol__2Q_AR\">%</span></span></span></div></td><td class=\"wind\" headers=\"wind\" title=\"Cloudy skies early, followed by partial clearing. High near 40F. Winds WSW at 5 to 10 mph.\" data-track-string=\"ls_24_hour_ls_24_hour_toggle\" className=\"wind\"><span class=\"\">WSW 9 mph </span></td><td class=\"humidity\" headers=\"humidity\" title=\"Cloudy skies early, followed by partial clearing. High near 40F. Winds WSW at 5 to 10 mph.\" data-track-string=\"ls_24_hour_ls_24_hour_toggle\" className=\"humidity\"><span class=\"\"><span>65<span class=\"Percentage__percentSymbol__2Q_AR\">%</span></span></span></td></tr><tr class=\"clickable closed\" className=\"clickable closed\"><td class=\"twc-sticky-col cell-hide\"><div class=\"twc-table-shadow sticky\" className=\"twc-table-shadow sticky\"></div></td><td class=\"twc-sticky-col\" headers=\"day\" title=\"Intervals of clouds and sunshine. High 43F. Winds WNW at 10 to 20 mph.\" data-track-string=\"ls_24_hour_ls_24_hour_toggle\" className=\"twc-sticky-col\"><div><div><span class=\"date-time\">Thu</span><icon class=\"icon icon-svg icon-svg-dark icon-partly-cloudy icon-30\" className=\"icon icon-svg icon-svg-dark icon-partly-cloudy icon-30\"><svg xmlns=\"http://www.w3.org/2000/svg\" xmlns:xlink=\"http://www.w3.org/1999/xlink\" viewBox=\"0 0 200 200\" class=\"svg-partly-cloudy\"><defs><mask id=\"partly-cloudy-mask\"><rect width=\"100%\" height=\"100%\" fill=\"#FFF\"/><use xlink:href=\"#svg-symbol-cloud\" transform=\"translate(3.571 -44.642) scale(1.7857)\" stroke=\"#000\" stroke-width=\"13\"/></mask></defs><use class=\"svg-sun\" xlink:href=\"#svg-symbol-sun\" transform=\"matrix(.56 0 0 .56 0 16.8)\" mask=\"url(#partly-cloudy-mask)\"/><use class=\"svg-cloud\" xlink:href=\"#svg-symbol-cloud\" transform=\"translate(0 -10)\"/></svg>',\n",
       " '</icon><div class=\"twc-table-shadow sticky\" className=\"twc-table-shadow sticky\"></div></div><span class=\"day-detail clearfix\">DEC 5</span></div></td><td class=\"description\" headers=\"description\" title=\"Intervals of clouds and sunshine. High 43F. Winds WNW at 10 to 20 mph.\" data-track-string=\"ls_24_hour_ls_24_hour_toggle\" className=\"description\"><span>Partly Cloudy</span></td><td class=\"temp\" headers=\"hi-lo\" title=\"Intervals of clouds and sunshine. High 43F. Winds WNW at 10 to 20 mph.\" data-track-string=\"ls_24_hour_ls_24_hour_toggle\" className=\"temp\"><div><span class=\"\">43<sup>°</sup></span><span class=\"slash\" className=\"slash\"></span><span class=\"\">27<sup>°</sup></span></div></td><td class=\"precip\" headers=\"precip\" title=\"Intervals of clouds and sunshine. High 43F. Winds WNW at 10 to 20 mph.\" data-track-string=\"ls_24_hour_ls_24_hour_toggle\" className=\"precip\"><div><span class=\"icon icon-font iconset-weather-data icon-drop-1\" className=\"icon icon-font iconset-weather-data icon-drop-1\"></span><span class=\"\"><span>10<span class=\"Percentage__percentSymbol__2Q_AR\">%</span></span></span></div></td><td class=\"wind\" headers=\"wind\" title=\"Intervals of clouds and sunshine. High 43F. Winds WNW at 10 to 20 mph.\" data-track-string=\"ls_24_hour_ls_24_hour_toggle\" className=\"wind\"><span class=\"\">WNW 14 mph </span></td><td class=\"humidity\" headers=\"humidity\" title=\"Intervals of clouds and sunshine. High 43F. Winds WNW at 10 to 20 mph.\" data-track-string=\"ls_24_hour_ls_24_hour_toggle\" className=\"humidity\"><span class=\"\"><span>61<span class=\"Percentage__percentSymbol__2Q_AR\">%</span></span></span></td></tr><tr class=\"clickable closed\" className=\"clickable closed\"><td class=\"twc-sticky-col cell-hide\"><div class=\"twc-table-shadow sticky\" className=\"twc-table-shadow sticky\"></div></td><td class=\"twc-sticky-col\" headers=\"day\" title=\"A mix of clouds and sun in the morning giving way to a few snow showers during the afternoon. High 38F. Winds WSW at 10 to 15 mph. Chance of snow 30%.\" data-track-string=\"ls_24_hour_ls_24_hour_toggle\" className=\"twc-sticky-col\"><div><div><span class=\"date-time\">Fri</span><icon class=\"icon icon-svg icon-svg-dark icon-snow icon-14\" className=\"icon icon-svg icon-svg-dark icon-snow icon-14\"><svg xmlns=\"http://www.w3.org/2000/svg\" xmlns:xlink=\"http://www.w3.org/1999/xlink\" viewBox=\"0 0 200 200\"><use class=\"svg-cloud\" xlink:href=\"#svg-symbol-cloud\" transform=\"matrix(1.05 0 0 1.05 -5.25 -47.25)\"/><use class=\"svg-snowflake\" xlink:href=\"#svg-symbol-snowflake\" transform=\"matrix(.3 0 0 .3 94.5 126)\"/><use class=\"svg-snowflake\" xlink:href=\"#svg-symbol-snowflake\" transform=\"matrix(.15 0 0 .15 48 125.25)\"/></svg></icon><div class=\"twc-table-shadow sticky\" className=\"twc-table-shadow sticky\"></div></div><span class=\"day-detail clearfix\">DEC 6</span></div></td><td class=\"description\" headers=\"description\" title=\"A mix of clouds and sun in the morning giving way to a few snow showers during the afternoon. High 38F. Winds WSW at 10 to 15 mph. Chance of snow 30%.\" data-track-string=\"ls_24_hour_ls_24_hour_toggle\" className=\"description\"><span>PM Snow Showers</span></td><td class=\"temp\" headers=\"hi-lo\" title=\"A mix of clouds and sun in the morning giving way to a few snow showers during the afternoon. High 38F. Winds WSW at 10 to 15 mph. Chance of snow 30%.\" data-track-string=\"ls_24_hour_ls_24_hour_toggle\" className=\"temp\"><div><span class=\"\">38<sup>°</sup></span><span class=\"slash\" className=\"slash\"></span><span class=\"\">24<sup>°</sup></span></div></td><td class=\"precip\" headers=\"precip\" title=\"A mix of clouds and sun in the morning giving way to a few snow showers during the afternoon. High 38F. Winds WSW at 10 to 15 mph. Chance of snow 30%.\" data-track-string=\"ls_24_hour_ls_24_hour_toggle\" className=\"precip\"><div><span class=\"icon icon-font iconset-weather-data icon-drop-1\" className=\"icon icon-font iconset-weather-data icon-drop-1\"></span><span class=\"\"><span>30<span class=\"Percentage__percentSymbol__2Q_AR\">%</span></span></span></div></td><td class=\"wind\" headers=\"wind\" title=\"A mix of clouds and sun in the morning giving way to a few snow showers during the afternoon. High 38F. Winds WSW at 10 to 15 mph. Chance of snow 30%.\" data-track-string=\"ls_24_hour_ls_24_hour_toggle\" className=\"wind\"><span class=\"\">WSW 12 mph </span></td><td class=\"humidity\" headers=\"humidity\" title=\"A mix of clouds and sun in the morning giving way to a few snow showers during the afternoon. High 38F. Winds WSW at 10 to 15 mph. Chance of snow 30%.\" data-track-string=\"ls_24_hour_ls_24_hour_toggle\" className=\"humidity\"><span class=\"\"><span>61<span class=\"Percentage__percentSymbol__2Q_AR\">%</span></span></span></td></tr><tr class=\"clickable closed\" className=\"clickable closed\"><td class=\"twc-sticky-col cell-hide\"><div class=\"twc-table-shadow sticky\" className=\"twc-table-shadow sticky\"></div></td><td class=\"twc-sticky-col\" headers=\"day\" title=\"Mainly sunny. High near 30F. Winds NW at 10 to 15 mph.\" data-track-string=\"ls_24_hour_ls_24_hour_toggle\" className=\"twc-sticky-col\"><div><div><span class=\"date-time\">Sat</span><icon class=\"icon icon-svg icon-svg-dark icon-sunny icon-32\" className=\"icon icon-svg icon-svg-dark icon-sunny icon-32\"><svg xmlns=\"http://www.w3.org/2000/svg\" xmlns:xlink=\"http://www.w3.org/1999/xlink\" viewBox=\"0 0 200 200\" class=\"svg-sunny\"><use class=\"svg-sun\" xlink:href=\"#svg-symbol-sun\"/></svg></icon><div class=\"twc-table-shadow sticky\" className=\"twc-table-shadow sticky\"></div></div><span class=\"day-detail clearfix\">DEC 7</span></div></td><td class=\"description\" headers=\"description\" title=\"Mainly sunny. High near 30F. Winds NW at 10 to 15 mph.\" data-track-string=\"ls_24_hour_ls_24_hour_toggle\" className=\"description\"><span>Sunny</span></td><td class=\"temp\" headers=\"hi-lo\" title=\"Mainly sunny. High near 30F. Winds NW at 10 to 15 mph.\" data-track-string=\"ls_24_hour_ls_24_hour_toggle\" className=\"temp\"><div><span class=\"\">30<sup>°</sup></span><span class=\"slash\" className=\"slash\"></span><span class=\"\">16<sup>°</sup></span></div></td><td class=\"precip\" headers=\"precip\" title=\"Mainly sunny. High near 30F. Winds NW at 10 to 15 mph.\" data-track-string=\"ls_24_hour_ls_24_hour_toggle\" className=\"precip\"><div><span class=\"icon icon-font iconset-weather-data icon-drop-1\" className=\"icon icon-font iconset-weather-data icon-drop-1\"></span><span class=\"\"><span>0<span class=\"Percentage__percentSymbol__2Q_AR\">%</span></span></span></div></td><td class=\"wind\" headers=\"wind\" title=\"Mainly sunny. High near 30F. Winds NW at 10 to 15 mph.\" data-track-string=\"ls_24_hour_ls_24_hour_toggle\" className=\"wind\"><span class=\"\">NW 12 mph </span></td><td class=\"humidity\" headers=\"humidity\" title=\"Mainly sunny. High near 30F. Winds NW at 10 to 15 mph.\" data-track-string=\"ls_24_hour_ls_24_hour_toggle\" className=\"humidity\"><span class=\"\"><span>55<span class=\"Percentage__percentSymbol__2Q_AR\">%</span></span></span></td></tr><tr class=\"clickable closed\" className=\"clickable closed\"><td class=\"twc-sticky-col cell-hide\"><div class=\"twc-table-shadow sticky\" className=\"twc-table-shadow sticky\"></div></td><td class=\"twc-sticky-col\" headers=\"day\" title=\"Sunny along with a few clouds. High 39F. Winds SW at 10 to 15 mph.\" data-track-string=\"ls_24_hour_ls_24_hour_toggle\" className=\"twc-sticky-col\"><div><div><span class=\"date-time\">Sun</span><icon class=\"icon icon-svg icon-svg-dark icon-mostly-sunny icon-34\" className=\"icon icon-svg icon-svg-dark icon-mostly-sunny icon-34\"><svg xmlns=\"http://www.w3.org/2000/svg\" xmlns:xlink=\"http://www.w3.org/1999/xlink\" viewBox=\"-5 -5 208 208\" class=\"svg-mostly-sunny\"><defs><mask id=\"mostly-sunny-mask\"><rect width=\"100%\" height=\"100%\" fill=\"#FFF\"/><use xlink:href=\"#svg-symbol-cloud\" transform=\"translate(92 10) scale(.7125)\" stroke-width=\"12\" stroke=\"#000\"/></mask></defs><use class=\"svg-sun\" xlink:href=\"#svg-symbol-sun\" transform=\"scale(.8)\" mask=\"url(#mostly-sunny-mask)\"/><use class=\"svg-cloud\" xlink:href=\"#svg-symbol-cloud\" transform=\"matrix(.57 0 0 .57 74 8)\" stroke-width=\"0\"/></svg>']"
      ]
     },
     "execution_count": 1,
     "metadata": {},
     "output_type": "execute_result"
    }
   ],
   "source": [
    "import requests\n",
    "\n",
    "r = requests.get('https://weather.com/weather/tenday/l/Boston+MA?canonicalCityId=6320cadd3d539b434b5a45c094becf3edbe8ea88958185a2287a801115c9ae30')\n",
    "lines = r.text.split('\\n')\n",
    "lines[2:4]"
   ]
  },
  {
   "cell_type": "markdown",
   "metadata": {},
   "source": [
    "We can see that even we split the html by \"\\n\", each line we still get many html tags in it.<br/>\n",
    "So, we need to split in each line more than one time to get the data we want.<br/>\n",
    "We look for lines with temperature."
   ]
  },
  {
   "cell_type": "code",
   "execution_count": 2,
   "metadata": {
    "scrolled": true
   },
   "outputs": [
    {
     "name": "stdout",
     "output_type": "stream",
     "text": [
      "</icon><div class=\"twc-table-shadow sticky\" className=\"twc-table-shadow sticky\"></div></div><span class=\"day-detail clearfix\">DEC 5</span></div></td><td class=\"description\" headers=\"description\" title=\"Intervals of clouds and sunshine. High 43F. Winds WNW at 10 to 20 mph.\" data-track-string=\"ls_24_hour_ls_24_hour_toggle\" className=\"description\"><span>Partly Cloudy</span></td><td class=\"temp\" headers=\"hi-lo\" title=\"Intervals of clouds and sunshine. High 43F. Winds WNW at 10 to 20 mph.\" data-track-string=\"ls_24_hour_ls_24_hour_toggle\" className=\"temp\"><div><span class=\"\">43<sup>°</sup></span><span class=\"slash\" className=\"slash\"></span><span class=\"\">27<sup>°</sup></span></div></td><td class=\"precip\" headers=\"precip\" title=\"Intervals of clouds and sunshine. High 43F. Winds WNW at 10 to 20 mph.\" data-track-string=\"ls_24_hour_ls_24_hour_toggle\" className=\"precip\"><div><span class=\"icon icon-font iconset-weather-data icon-drop-1\" className=\"icon icon-font iconset-weather-data icon-drop-1\"></span><span class=\"\"><span>10<span class=\"Percentage__percentSymbol__2Q_AR\">%</span></span></span></div></td><td class=\"wind\" headers=\"wind\" title=\"Intervals of clouds and sunshine. High 43F. Winds WNW at 10 to 20 mph.\" data-track-string=\"ls_24_hour_ls_24_hour_toggle\" className=\"wind\"><span class=\"\">WNW 14 mph </span></td><td class=\"humidity\" headers=\"humidity\" title=\"Intervals of clouds and sunshine. High 43F. Winds WNW at 10 to 20 mph.\" data-track-string=\"ls_24_hour_ls_24_hour_toggle\" className=\"humidity\"><span class=\"\"><span>61<span class=\"Percentage__percentSymbol__2Q_AR\">%</span></span></span></td></tr><tr class=\"clickable closed\" className=\"clickable closed\"><td class=\"twc-sticky-col cell-hide\"><div class=\"twc-table-shadow sticky\" className=\"twc-table-shadow sticky\"></div></td><td class=\"twc-sticky-col\" headers=\"day\" title=\"A mix of clouds and sun in the morning giving way to a few snow showers during the afternoon. High 38F. Winds WSW at 10 to 15 mph. Chance of snow 30%.\" data-track-string=\"ls_24_hour_ls_24_hour_toggle\" className=\"twc-sticky-col\"><div><div><span class=\"date-time\">Fri</span><icon class=\"icon icon-svg icon-svg-dark icon-snow icon-14\" className=\"icon icon-svg icon-svg-dark icon-snow icon-14\"><svg xmlns=\"http://www.w3.org/2000/svg\" xmlns:xlink=\"http://www.w3.org/1999/xlink\" viewBox=\"0 0 200 200\"><use class=\"svg-cloud\" xlink:href=\"#svg-symbol-cloud\" transform=\"matrix(1.05 0 0 1.05 -5.25 -47.25)\"/><use class=\"svg-snowflake\" xlink:href=\"#svg-symbol-snowflake\" transform=\"matrix(.3 0 0 .3 94.5 126)\"/><use class=\"svg-snowflake\" xlink:href=\"#svg-symbol-snowflake\" transform=\"matrix(.15 0 0 .15 48 125.25)\"/></svg></icon><div class=\"twc-table-shadow sticky\" className=\"twc-table-shadow sticky\"></div></div><span class=\"day-detail clearfix\">DEC 6</span></div></td><td class=\"description\" headers=\"description\" title=\"A mix of clouds and sun in the morning giving way to a few snow showers during the afternoon. High 38F. Winds WSW at 10 to 15 mph. Chance of snow 30%.\" data-track-string=\"ls_24_hour_ls_24_hour_toggle\" className=\"description\"><span>PM Snow Showers</span></td><td class=\"temp\" headers=\"hi-lo\" title=\"A mix of clouds and sun in the morning giving way to a few snow showers during the afternoon. High 38F. Winds WSW at 10 to 15 mph. Chance of snow 30%.\" data-track-string=\"ls_24_hour_ls_24_hour_toggle\" className=\"temp\"><div><span class=\"\">38<sup>°</sup></span><span class=\"slash\" className=\"slash\"></span><span class=\"\">24<sup>°</sup></span></div></td><td class=\"precip\" headers=\"precip\" title=\"A mix of clouds and sun in the morning giving way to a few snow showers during the afternoon. High 38F. Winds WSW at 10 to 15 mph. Chance of snow 30%.\" data-track-string=\"ls_24_hour_ls_24_hour_toggle\" className=\"precip\"><div><span class=\"icon icon-font iconset-weather-data icon-drop-1\" className=\"icon icon-font iconset-weather-data icon-drop-1\"></span><span class=\"\"><span>30<span class=\"Percentage__percentSymbol__2Q_AR\">%</span></span></span></div></td><td class=\"wind\" headers=\"wind\" title=\"A mix of clouds and sun in the morning giving way to a few snow showers during the afternoon. High 38F. Winds WSW at 10 to 15 mph. Chance of snow 30%.\" data-track-string=\"ls_24_hour_ls_24_hour_toggle\" className=\"wind\"><span class=\"\">WSW 12 mph </span></td><td class=\"humidity\" headers=\"humidity\" title=\"A mix of clouds and sun in the morning giving way to a few snow showers during the afternoon. High 38F. Winds WSW at 10 to 15 mph. Chance of snow 30%.\" data-track-string=\"ls_24_hour_ls_24_hour_toggle\" className=\"humidity\"><span class=\"\"><span>61<span class=\"Percentage__percentSymbol__2Q_AR\">%</span></span></span></td></tr><tr class=\"clickable closed\" className=\"clickable closed\"><td class=\"twc-sticky-col cell-hide\"><div class=\"twc-table-shadow sticky\" className=\"twc-table-shadow sticky\"></div></td><td class=\"twc-sticky-col\" headers=\"day\" title=\"Mainly sunny. High near 30F. Winds NW at 10 to 15 mph.\" data-track-string=\"ls_24_hour_ls_24_hour_toggle\" className=\"twc-sticky-col\"><div><div><span class=\"date-time\">Sat</span><icon class=\"icon icon-svg icon-svg-dark icon-sunny icon-32\" className=\"icon icon-svg icon-svg-dark icon-sunny icon-32\"><svg xmlns=\"http://www.w3.org/2000/svg\" xmlns:xlink=\"http://www.w3.org/1999/xlink\" viewBox=\"0 0 200 200\" class=\"svg-sunny\"><use class=\"svg-sun\" xlink:href=\"#svg-symbol-sun\"/></svg></icon><div class=\"twc-table-shadow sticky\" className=\"twc-table-shadow sticky\"></div></div><span class=\"day-detail clearfix\">DEC 7</span></div></td><td class=\"description\" headers=\"description\" title=\"Mainly sunny. High near 30F. Winds NW at 10 to 15 mph.\" data-track-string=\"ls_24_hour_ls_24_hour_toggle\" className=\"description\"><span>Sunny</span></td><td class=\"temp\" headers=\"hi-lo\" title=\"Mainly sunny. High near 30F. Winds NW at 10 to 15 mph.\" data-track-string=\"ls_24_hour_ls_24_hour_toggle\" className=\"temp\"><div><span class=\"\">30<sup>°</sup></span><span class=\"slash\" className=\"slash\"></span><span class=\"\">16<sup>°</sup></span></div></td><td class=\"precip\" headers=\"precip\" title=\"Mainly sunny. High near 30F. Winds NW at 10 to 15 mph.\" data-track-string=\"ls_24_hour_ls_24_hour_toggle\" className=\"precip\"><div><span class=\"icon icon-font iconset-weather-data icon-drop-1\" className=\"icon icon-font iconset-weather-data icon-drop-1\"></span><span class=\"\"><span>0<span class=\"Percentage__percentSymbol__2Q_AR\">%</span></span></span></div></td><td class=\"wind\" headers=\"wind\" title=\"Mainly sunny. High near 30F. Winds NW at 10 to 15 mph.\" data-track-string=\"ls_24_hour_ls_24_hour_toggle\" className=\"wind\"><span class=\"\">NW 12 mph </span></td><td class=\"humidity\" headers=\"humidity\" title=\"Mainly sunny. High near 30F. Winds NW at 10 to 15 mph.\" data-track-string=\"ls_24_hour_ls_24_hour_toggle\" className=\"humidity\"><span class=\"\"><span>55<span class=\"Percentage__percentSymbol__2Q_AR\">%</span></span></span></td></tr><tr class=\"clickable closed\" className=\"clickable closed\"><td class=\"twc-sticky-col cell-hide\"><div class=\"twc-table-shadow sticky\" className=\"twc-table-shadow sticky\"></div></td><td class=\"twc-sticky-col\" headers=\"day\" title=\"Sunny along with a few clouds. High 39F. Winds SW at 10 to 15 mph.\" data-track-string=\"ls_24_hour_ls_24_hour_toggle\" className=\"twc-sticky-col\"><div><div><span class=\"date-time\">Sun</span><icon class=\"icon icon-svg icon-svg-dark icon-mostly-sunny icon-34\" className=\"icon icon-svg icon-svg-dark icon-mostly-sunny icon-34\"><svg xmlns=\"http://www.w3.org/2000/svg\" xmlns:xlink=\"http://www.w3.org/1999/xlink\" viewBox=\"-5 -5 208 208\" class=\"svg-mostly-sunny\"><defs><mask id=\"mostly-sunny-mask\"><rect width=\"100%\" height=\"100%\" fill=\"#FFF\"/><use xlink:href=\"#svg-symbol-cloud\" transform=\"translate(92 10) scale(.7125)\" stroke-width=\"12\" stroke=\"#000\"/></mask></defs><use class=\"svg-sun\" xlink:href=\"#svg-symbol-sun\" transform=\"scale(.8)\" mask=\"url(#mostly-sunny-mask)\"/><use class=\"svg-cloud\" xlink:href=\"#svg-symbol-cloud\" transform=\"matrix(.57 0 0 .57 74 8)\" stroke-width=\"0\"/></svg>\n",
      "</icon><div class=\"twc-table-shadow sticky\" className=\"twc-table-shadow sticky\"></div></div><span class=\"day-detail clearfix\">DEC 8</span></div></td><td class=\"description\" headers=\"description\" title=\"Sunny along with a few clouds. High 39F. Winds SW at 10 to 15 mph.\" data-track-string=\"ls_24_hour_ls_24_hour_toggle\" className=\"description\"><span>Mostly Sunny</span></td><td class=\"temp\" headers=\"hi-lo\" title=\"Sunny along with a few clouds. High 39F. Winds SW at 10 to 15 mph.\" data-track-string=\"ls_24_hour_ls_24_hour_toggle\" className=\"temp\"><div><span class=\"\">39<sup>°</sup></span><span class=\"slash\" className=\"slash\"></span><span class=\"\">37<sup>°</sup></span></div></td><td class=\"precip\" headers=\"precip\" title=\"Sunny along with a few clouds. High 39F. Winds SW at 10 to 15 mph.\" data-track-string=\"ls_24_hour_ls_24_hour_toggle\" className=\"precip\"><div><span class=\"icon icon-font iconset-weather-data icon-drop-1\" className=\"icon icon-font iconset-weather-data icon-drop-1\"></span><span class=\"\"><span>10<span class=\"Percentage__percentSymbol__2Q_AR\">%</span></span></span></div></td><td class=\"wind\" headers=\"wind\" title=\"Sunny along with a few clouds. High 39F. Winds SW at 10 to 15 mph.\" data-track-string=\"ls_24_hour_ls_24_hour_toggle\" className=\"wind\"><span class=\"\">SW 11 mph </span></td><td class=\"humidity\" headers=\"humidity\" title=\"Sunny along with a few clouds. High 39F. Winds SW at 10 to 15 mph.\" data-track-string=\"ls_24_hour_ls_24_hour_toggle\" className=\"humidity\"><span class=\"\"><span>55<span class=\"Percentage__percentSymbol__2Q_AR\">%</span></span></span></td></tr><tr class=\"clickable closed\" className=\"clickable closed\"><td class=\"twc-sticky-col cell-hide\"><div class=\"twc-table-shadow sticky\" className=\"twc-table-shadow sticky\"></div></td><td class=\"twc-sticky-col\" headers=\"day\" title=\"Cloudy with showers. High 53F. Winds S at 10 to 20 mph. Chance of rain 50%.\" data-track-string=\"ls_24_hour_ls_24_hour_toggle\" className=\"twc-sticky-col\"><div><div><span class=\"date-time\">Mon</span><icon class=\"icon icon-svg icon-svg-dark icon-scattered-showers icon-11\" className=\"icon icon-svg icon-svg-dark icon-scattered-showers icon-11\"><svg xmlns=\"http://www.w3.org/2000/svg\" xmlns:xlink=\"http://www.w3.org/1999/xlink\" viewBox=\"0 0 200 200\" class=\"svg-scattered-showers\"><use class=\"svg-cloud\" xlink:href=\"#svg-symbol-cloud\" transform=\"translate(0 -41)\" stroke-width=\"5.7\"/><use class=\"svg-drop\" xlink:href=\"#svg-symbol-drop\" transform=\"translate(16)\"/><use class=\"svg-drop\" xlink:href=\"#svg-symbol-drop\" transform=\"matrix(1.7 0 0 2 -13 -121)\"/></svg></icon><div class=\"twc-table-shadow sticky\" className=\"twc-table-shadow sticky\"></div></div><span class=\"day-detail clearfix\">DEC 9</span></div></td><td class=\"description\" headers=\"description\" title=\"Cloudy with showers. High 53F. Winds S at 10 to 20 mph. Chance of rain 50%.\" data-track-string=\"ls_24_hour_ls_24_hour_toggle\" className=\"description\"><span>Showers</span></td><td class=\"temp\" headers=\"hi-lo\" title=\"Cloudy with showers. High 53F. Winds S at 10 to 20 mph. Chance of rain 50%.\" data-track-string=\"ls_24_hour_ls_24_hour_toggle\" className=\"temp\"><div><span class=\"\">53<sup>°</sup></span><span class=\"slash\" className=\"slash\"></span><span class=\"\">52<sup>°</sup></span></div></td><td class=\"precip\" headers=\"precip\" title=\"Cloudy with showers. High 53F. Winds S at 10 to 20 mph. Chance of rain 50%.\" data-track-string=\"ls_24_hour_ls_24_hour_toggle\" className=\"precip\"><div><span class=\"icon icon-font iconset-weather-data icon-drop-1\" className=\"icon icon-font iconset-weather-data icon-drop-1\"></span><span class=\"\"><span>50<span class=\"Percentage__percentSymbol__2Q_AR\">%</span></span></span></div></td><td class=\"wind\" headers=\"wind\" title=\"Cloudy with showers. High 53F. Winds S at 10 to 20 mph. Chance of rain 50%.\" data-track-string=\"ls_24_hour_ls_24_hour_toggle\" className=\"wind\"><span class=\"\">S 14 mph </span></td><td class=\"humidity\" headers=\"humidity\" title=\"Cloudy with showers. High 53F. Winds S at 10 to 20 mph. Chance of rain 50%.\" data-track-string=\"ls_24_hour_ls_24_hour_toggle\" className=\"humidity\"><span class=\"\"><span>84<span class=\"Percentage__percentSymbol__2Q_AR\">%</span></span></span></td></tr><tr class=\"clickable closed\" className=\"clickable closed\"><td class=\"twc-sticky-col cell-hide\"><div class=\"twc-table-shadow sticky\" className=\"twc-table-shadow sticky\"></div></td><td class=\"twc-sticky-col\" headers=\"day\" title=\"Cloudy with showers. High 59F. Winds SSW at 15 to 25 mph. Chance of rain 50%.\" data-track-string=\"ls_24_hour_ls_24_hour_toggle\" className=\"twc-sticky-col\"><div><div><span class=\"date-time\">Tue</span><icon class=\"icon icon-svg icon-svg-dark icon-scattered-showers icon-11\" className=\"icon icon-svg icon-svg-dark icon-scattered-showers icon-11\"><svg xmlns=\"http://www.w3.org/2000/svg\" xmlns:xlink=\"http://www.w3.org/1999/xlink\" viewBox=\"0 0 200 200\" class=\"svg-scattered-showers\"><use class=\"svg-cloud\" xlink:href=\"#svg-symbol-cloud\" transform=\"translate(0 -41)\" stroke-width=\"5.7\"/><use class=\"svg-drop\" xlink:href=\"#svg-symbol-drop\" transform=\"translate(16)\"/><use class=\"svg-drop\" xlink:href=\"#svg-symbol-drop\" transform=\"matrix(1.7 0 0 2 -13 -121)\"/></svg></icon><div class=\"twc-table-shadow sticky\" className=\"twc-table-shadow sticky\"></div></div><span class=\"day-detail clearfix\">DEC 10</span></div></td><td class=\"description\" headers=\"description\" title=\"Cloudy with showers. High 59F. Winds SSW at 15 to 25 mph. Chance of rain 50%.\" data-track-string=\"ls_24_hour_ls_24_hour_toggle\" className=\"description\"><span>Showers</span></td><td class=\"temp\" headers=\"hi-lo\" title=\"Cloudy with showers. High 59F. Winds SSW at 15 to 25 mph. Chance of rain 50%.\" data-track-string=\"ls_24_hour_ls_24_hour_toggle\" className=\"temp\"><div><span class=\"\">59<sup>°</sup></span><span class=\"slash\" className=\"slash\"></span><span class=\"\">41<sup>°</sup></span></div></td><td class=\"precip\" headers=\"precip\" title=\"Cloudy with showers. High 59F. Winds SSW at 15 to 25 mph. Chance of rain 50%.\" data-track-string=\"ls_24_hour_ls_24_hour_toggle\" className=\"precip\"><div><span class=\"icon icon-font iconset-weather-data icon-drop-1\" className=\"icon icon-font iconset-weather-data icon-drop-1\"></span><span class=\"\"><span>50<span class=\"Percentage__percentSymbol__2Q_AR\">%</span></span></span></div></td><td class=\"wind\" headers=\"wind\" title=\"Cloudy with showers. High 59F. Winds SSW at 15 to 25 mph. Chance of rain 50%.\" data-track-string=\"ls_24_hour_ls_24_hour_toggle\" className=\"wind\"><span class=\"\">SSW 17 mph </span></td><td class=\"humidity\" headers=\"humidity\" title=\"Cloudy with showers. High 59F. Winds SSW at 15 to 25 mph. Chance of rain 50%.\" data-track-string=\"ls_24_hour_ls_24_hour_toggle\" className=\"humidity\"><span class=\"\"><span>79<span class=\"Percentage__percentSymbol__2Q_AR\">%</span></span></span></td></tr><tr class=\"clickable closed\" className=\"clickable closed\"><td class=\"twc-sticky-col cell-hide\"><div class=\"twc-table-shadow sticky\" className=\"twc-table-shadow sticky\"></div></td><td class=\"twc-sticky-col\" headers=\"day\" title=\"Rain showers early mixing with snow showers later in the day. High 43F. Winds WNW at 10 to 20 mph. Chance of rain 40%.\" data-track-string=\"ls_24_hour_ls_24_hour_toggle\" className=\"twc-sticky-col\"><div><div><span class=\"date-time\">Wed</span><icon class=\"icon icon-svg icon-svg-dark icon-rain-snow icon-5\" className=\"icon icon-svg icon-svg-dark icon-rain-snow icon-5\"><svg xmlns=\"http://www.w3.org/2000/svg\" xmlns:xlink=\"http://www.w3.org/1999/xlink\" viewBox=\"0 0 200 200\" class=\"svg-rain-snow\"><use class=\"svg-snowflake\" xlink:href=\"#svg-symbol-snowflake\" transform=\"matrix(.18 0 0 .18 49.5 122.4)\"/><use class=\"svg-drop\" xlink:href=\"#svg-symbol-drop\" transform=\"matrix(1.7 0 0 2 -27 -120)\"/><use class=\"svg-drop\" xlink:href=\"#svg-symbol-drop\" transform=\"translate(65 2)\"/><use class=\"svg-cloud\" xlink:href=\"#svg-symbol-cloud\" transform=\"translate(0 -41)\"/></svg></icon><div class=\"twc-table-shadow sticky\" className=\"twc-table-shadow sticky\"></div></div><span class=\"day-detail clearfix\">DEC 11</span></div></td><td class=\"description\" headers=\"description\" title=\"Rain showers early mixing with snow showers later in the day. High 43F. Winds WNW at 10 to 20 mph. Chance of rain 40%.\" data-track-string=\"ls_24_hour_ls_24_hour_toggle\" className=\"description\"><span>Rain/Snow Showers</span></td><td class=\"temp\" headers=\"hi-lo\" title=\"Rain showers early mixing with snow showers later in the day. High 43F. Winds WNW at 10 to 20 mph. Chance of rain 40%.\" data-track-string=\"ls_24_hour_ls_24_hour_toggle\" className=\"temp\"><div><span class=\"\">43<sup>°</sup></span><span class=\"slash\" className=\"slash\"></span><span class=\"\">23<sup>°</sup></span></div></td><td class=\"precip\" headers=\"precip\" title=\"Rain showers early mixing with snow showers later in the day. High 43F. Winds WNW at 10 to 20 mph. Chance of rain 40%.\" data-track-string=\"ls_24_hour_ls_24_hour_toggle\" className=\"precip\"><div><span class=\"icon icon-font iconset-weather-data icon-drop-1\" className=\"icon icon-font iconset-weather-data icon-drop-1\"></span><span class=\"\"><span>40<span class=\"Percentage__percentSymbol__2Q_AR\">%</span></span></span></div></td><td class=\"wind\" headers=\"wind\" title=\"Rain showers early mixing with snow showers later in the day. High 43F. Winds WNW at 10 to 20 mph. Chance of rain 40%.\" data-track-string=\"ls_24_hour_ls_24_hour_toggle\" className=\"wind\"><span class=\"\">WNW 14 mph </span></td><td class=\"humidity\" headers=\"humidity\" title=\"Rain showers early mixing with snow showers later in the day. High 43F. Winds WNW at 10 to 20 mph. Chance of rain 40%.\" data-track-string=\"ls_24_hour_ls_24_hour_toggle\" className=\"humidity\"><span class=\"\"><span>61<span class=\"Percentage__percentSymbol__2Q_AR\">%</span></span></span></td></tr><tr class=\"clickable closed\" className=\"clickable closed\"><td class=\"twc-sticky-col cell-hide\"><div class=\"twc-table-shadow sticky\" className=\"twc-table-shadow sticky\"></div></td><td class=\"twc-sticky-col\" headers=\"day\" title=\"Except for a few afternoon clouds, mainly sunny. High 32F. Winds WNW at 10 to 20 mph.\" data-track-string=\"ls_24_hour_ls_24_hour_toggle\" className=\"twc-sticky-col\"><div><div><span class=\"date-time\">Thu</span><icon class=\"icon icon-svg icon-svg-dark icon-mostly-sunny icon-34\" className=\"icon icon-svg icon-svg-dark icon-mostly-sunny icon-34\"><svg xmlns=\"http://www.w3.org/2000/svg\" xmlns:xlink=\"http://www.w3.org/1999/xlink\" viewBox=\"-5 -5 208 208\" class=\"svg-mostly-sunny\"><defs><mask id=\"mostly-sunny-mask\"><rect width=\"100%\" height=\"100%\" fill=\"#FFF\"/><use xlink:href=\"#svg-symbol-cloud\" transform=\"translate(92 10) scale(.7125)\" stroke-width=\"12\" stroke=\"#000\"/></mask></defs><use class=\"svg-sun\" xlink:href=\"#svg-symbol-sun\" transform=\"scale(.8)\" mask=\"url(#mostly-sunny-mask)\"/><use class=\"svg-cloud\" xlink:href=\"#svg-symbol-cloud\" transform=\"matrix(.57 0 0 .57 74 8)\" stroke-width=\"0\"/></svg>\n",
      "</icon><div class=\"twc-table-shadow sticky\" className=\"twc-table-shadow sticky\"></div></div><span class=\"day-detail clearfix\">DEC 12</span></div></td><td class=\"description\" headers=\"description\" title=\"Except for a few afternoon clouds, mainly sunny. High 32F. Winds WNW at 10 to 20 mph.\" data-track-string=\"ls_24_hour_ls_24_hour_toggle\" className=\"description\"><span>Mostly Sunny</span></td><td class=\"temp\" headers=\"hi-lo\" title=\"Except for a few afternoon clouds, mainly sunny. High 32F. Winds WNW at 10 to 20 mph.\" data-track-string=\"ls_24_hour_ls_24_hour_toggle\" className=\"temp\"><div><span class=\"\">32<sup>°</sup></span><span class=\"slash\" className=\"slash\"></span><span class=\"\">26<sup>°</sup></span></div></td><td class=\"precip\" headers=\"precip\" title=\"Except for a few afternoon clouds, mainly sunny. High 32F. Winds WNW at 10 to 20 mph.\" data-track-string=\"ls_24_hour_ls_24_hour_toggle\" className=\"precip\"><div><span class=\"icon icon-font iconset-weather-data icon-drop-1\" className=\"icon icon-font iconset-weather-data icon-drop-1\"></span><span class=\"\"><span>0<span class=\"Percentage__percentSymbol__2Q_AR\">%</span></span></span></div></td><td class=\"wind\" headers=\"wind\" title=\"Except for a few afternoon clouds, mainly sunny. High 32F. Winds WNW at 10 to 20 mph.\" data-track-string=\"ls_24_hour_ls_24_hour_toggle\" className=\"wind\"><span class=\"\">WNW 14 mph </span></td><td class=\"humidity\" headers=\"humidity\" title=\"Except for a few afternoon clouds, mainly sunny. High 32F. Winds WNW at 10 to 20 mph.\" data-track-string=\"ls_24_hour_ls_24_hour_toggle\" className=\"humidity\"><span class=\"\"><span>43<span class=\"Percentage__percentSymbol__2Q_AR\">%</span></span></span></td></tr><tr class=\"clickable closed\" className=\"clickable closed\"><td class=\"twc-sticky-col cell-hide\"><div class=\"twc-table-shadow sticky\" className=\"twc-table-shadow sticky\"></div></td><td class=\"twc-sticky-col\" headers=\"day\" title=\"Sunshine and clouds mixed. High near 40F. Winds NW at 10 to 15 mph.\" data-track-string=\"ls_24_hour_ls_24_hour_toggle\" className=\"twc-sticky-col\"><div><div><span class=\"date-time\">Fri</span><icon class=\"icon icon-svg icon-svg-dark icon-partly-cloudy icon-30\" className=\"icon icon-svg icon-svg-dark icon-partly-cloudy icon-30\"><svg xmlns=\"http://www.w3.org/2000/svg\" xmlns:xlink=\"http://www.w3.org/1999/xlink\" viewBox=\"0 0 200 200\" class=\"svg-partly-cloudy\"><defs><mask id=\"partly-cloudy-mask\"><rect width=\"100%\" height=\"100%\" fill=\"#FFF\"/><use xlink:href=\"#svg-symbol-cloud\" transform=\"translate(3.571 -44.642) scale(1.7857)\" stroke=\"#000\" stroke-width=\"13\"/></mask></defs><use class=\"svg-sun\" xlink:href=\"#svg-symbol-sun\" transform=\"matrix(.56 0 0 .56 0 16.8)\" mask=\"url(#partly-cloudy-mask)\"/><use class=\"svg-cloud\" xlink:href=\"#svg-symbol-cloud\" transform=\"translate(0 -10)\"/></svg>\n",
      "</icon><div class=\"twc-table-shadow sticky\" className=\"twc-table-shadow sticky\"></div></div><span class=\"day-detail clearfix\">DEC 13</span></div></td><td class=\"description\" headers=\"description\" title=\"Sunshine and clouds mixed. High near 40F. Winds NW at 10 to 15 mph.\" data-track-string=\"ls_24_hour_ls_24_hour_toggle\" className=\"description\"><span>Partly Cloudy</span></td><td class=\"temp\" headers=\"hi-lo\" title=\"Sunshine and clouds mixed. High near 40F. Winds NW at 10 to 15 mph.\" data-track-string=\"ls_24_hour_ls_24_hour_toggle\" className=\"temp\"><div><span class=\"\">40<sup>°</sup></span><span class=\"slash\" className=\"slash\"></span><span class=\"\">34<sup>°</sup></span></div></td><td class=\"precip\" headers=\"precip\" title=\"Sunshine and clouds mixed. High near 40F. Winds NW at 10 to 15 mph.\" data-track-string=\"ls_24_hour_ls_24_hour_toggle\" className=\"precip\"><div><span class=\"icon icon-font iconset-weather-data icon-drop-1\" className=\"icon icon-font iconset-weather-data icon-drop-1\"></span><span class=\"\"><span>20<span class=\"Percentage__percentSymbol__2Q_AR\">%</span></span></span></div></td><td class=\"wind\" headers=\"wind\" title=\"Sunshine and clouds mixed. High near 40F. Winds NW at 10 to 15 mph.\" data-track-string=\"ls_24_hour_ls_24_hour_toggle\" className=\"wind\"><span class=\"\">NW 11 mph </span></td><td class=\"humidity\" headers=\"humidity\" title=\"Sunshine and clouds mixed. High near 40F. Winds NW at 10 to 15 mph.\" data-track-string=\"ls_24_hour_ls_24_hour_toggle\" className=\"humidity\"><span class=\"\"><span>59<span class=\"Percentage__percentSymbol__2Q_AR\">%</span></span></span></td></tr><tr class=\"clickable closed\" className=\"clickable closed\"><td class=\"twc-sticky-col cell-hide\"><div class=\"twc-table-shadow sticky\" className=\"twc-table-shadow sticky\"></div></td><td class=\"twc-sticky-col\" headers=\"day\" title=\"Cloudy with occasional rain showers. High 44F. Winds SW at 10 to 15 mph. Chance of rain 50%.\" data-track-string=\"ls_24_hour_ls_24_hour_toggle\" className=\"twc-sticky-col\"><div><div><span class=\"date-time\">Sat</span><icon class=\"icon icon-svg icon-svg-dark icon-scattered-showers icon-11\" className=\"icon icon-svg icon-svg-dark icon-scattered-showers icon-11\"><svg xmlns=\"http://www.w3.org/2000/svg\" xmlns:xlink=\"http://www.w3.org/1999/xlink\" viewBox=\"0 0 200 200\" class=\"svg-scattered-showers\"><use class=\"svg-cloud\" xlink:href=\"#svg-symbol-cloud\" transform=\"translate(0 -41)\" stroke-width=\"5.7\"/><use class=\"svg-drop\" xlink:href=\"#svg-symbol-drop\" transform=\"translate(16)\"/><use class=\"svg-drop\" xlink:href=\"#svg-symbol-drop\" transform=\"matrix(1.7 0 0 2 -13 -121)\"/></svg></icon><div class=\"twc-table-shadow sticky\" className=\"twc-table-shadow sticky\"></div></div><span class=\"day-detail clearfix\">DEC 14</span></div></td><td class=\"description\" headers=\"description\" title=\"Cloudy with occasional rain showers. High 44F. Winds SW at 10 to 15 mph. Chance of rain 50%.\" data-track-string=\"ls_24_hour_ls_24_hour_toggle\" className=\"description\"><span>Showers</span></td><td class=\"temp\" headers=\"hi-lo\" title=\"Cloudy with occasional rain showers. High 44F. Winds SW at 10 to 15 mph. Chance of rain 50%.\" data-track-string=\"ls_24_hour_ls_24_hour_toggle\" className=\"temp\"><div><span class=\"\">44<sup>°</sup></span><span class=\"slash\" className=\"slash\"></span><span class=\"\">40<sup>°</sup></span></div></td><td class=\"precip\" headers=\"precip\" title=\"Cloudy with occasional rain showers. High 44F. Winds SW at 10 to 15 mph. Chance of rain 50%.\" data-track-string=\"ls_24_hour_ls_24_hour_toggle\" className=\"precip\"><div><span class=\"icon icon-font iconset-weather-data icon-drop-1\" className=\"icon icon-font iconset-weather-data icon-drop-1\"></span><span class=\"\"><span>50<span class=\"Percentage__percentSymbol__2Q_AR\">%</span></span></span></div></td><td class=\"wind\" headers=\"wind\" title=\"Cloudy with occasional rain showers. High 44F. Winds SW at 10 to 15 mph. Chance of rain 50%.\" data-track-string=\"ls_24_hour_ls_24_hour_toggle\" className=\"wind\"><span class=\"\">SW 12 mph </span></td><td class=\"humidity\" headers=\"humidity\" title=\"Cloudy with occasional rain showers. High 44F. Winds SW at 10 to 15 mph. Chance of rain 50%.\" data-track-string=\"ls_24_hour_ls_24_hour_toggle\" className=\"humidity\"><span class=\"\"><span>74<span class=\"Percentage__percentSymbol__2Q_AR\">%</span></span></span></td></tr><tr class=\"clickable closed\" className=\"clickable closed\"><td class=\"twc-sticky-col cell-hide\"><div class=\"twc-table-shadow sticky\" className=\"twc-table-shadow sticky\"></div></td><td class=\"twc-sticky-col\" headers=\"day\" title=\"Overcast with rain showers at times. High around 45F. Winds WNW at 10 to 20 mph. Chance of rain 50%.\" data-track-string=\"ls_24_hour_ls_24_hour_toggle\" className=\"twc-sticky-col\"><div><div><span class=\"date-time\">Sun</span><icon class=\"icon icon-svg icon-svg-dark icon-scattered-showers icon-11\" className=\"icon icon-svg icon-svg-dark icon-scattered-showers icon-11\"><svg xmlns=\"http://www.w3.org/2000/svg\" xmlns:xlink=\"http://www.w3.org/1999/xlink\" viewBox=\"0 0 200 200\" class=\"svg-scattered-showers\"><use class=\"svg-cloud\" xlink:href=\"#svg-symbol-cloud\" transform=\"translate(0 -41)\" stroke-width=\"5.7\"/><use class=\"svg-drop\" xlink:href=\"#svg-symbol-drop\" transform=\"translate(16)\"/><use class=\"svg-drop\" xlink:href=\"#svg-symbol-drop\" transform=\"matrix(1.7 0 0 2 -13 -121)\"/></svg></icon><div class=\"twc-table-shadow sticky\" className=\"twc-table-shadow sticky\"></div></div><span class=\"day-detail clearfix\">DEC 15</span></div></td><td class=\"description\" headers=\"description\" title=\"Overcast with rain showers at times. High around 45F. Winds WNW at 10 to 20 mph. Chance of rain 50%.\" data-track-string=\"ls_24_hour_ls_24_hour_toggle\" className=\"description\"><span>Showers</span></td><td class=\"temp\" headers=\"hi-lo\" title=\"Overcast with rain showers at times. High around 45F. Winds WNW at 10 to 20 mph. Chance of rain 50%.\" data-track-string=\"ls_24_hour_ls_24_hour_toggle\" className=\"temp\"><div><span class=\"\">45<sup>°</sup></span><span class=\"slash\" className=\"slash\"></span><span class=\"\">36<sup>°</sup></span></div></td><td class=\"precip\" headers=\"precip\" title=\"Overcast with rain showers at times. High around 45F. Winds WNW at 10 to 20 mph. Chance of rain 50%.\" data-track-string=\"ls_24_hour_ls_24_hour_toggle\" className=\"precip\"><div><span class=\"icon icon-font iconset-weather-data icon-drop-1\" className=\"icon icon-font iconset-weather-data icon-drop-1\"></span><span class=\"\"><span>50<span class=\"Percentage__percentSymbol__2Q_AR\">%</span></span></span></div></td><td class=\"wind\" headers=\"wind\" title=\"Overcast with rain showers at times. High around 45F. Winds WNW at 10 to 20 mph. Chance of rain 50%.\" data-track-string=\"ls_24_hour_ls_24_hour_toggle\" className=\"wind\"><span class=\"\">WNW 13 mph </span></td><td class=\"humidity\" headers=\"humidity\" title=\"Overcast with rain showers at times. High around 45F. Winds WNW at 10 to 20 mph. Chance of rain 50%.\" data-track-string=\"ls_24_hour_ls_24_hour_toggle\" className=\"humidity\"><span class=\"\"><span>73<span class=\"Percentage__percentSymbol__2Q_AR\">%</span></span></span></td></tr><tr class=\"clickable closed\" className=\"clickable closed\"><td class=\"twc-sticky-col cell-hide\"><div class=\"twc-table-shadow sticky\" className=\"twc-table-shadow sticky\"></div></td><td class=\"twc-sticky-col\" headers=\"day\" title=\"Cloudy with rain and snow showers. High near 40F. Winds WNW at 10 to 20 mph. Chance of rain 50%. Snow accumulations less than one inch.\" data-track-string=\"ls_24_hour_ls_24_hour_toggle\" className=\"twc-sticky-col\"><div><div><span class=\"date-time\">Mon</span><icon class=\"icon icon-svg icon-svg-dark icon-rain-snow icon-5\" className=\"icon icon-svg icon-svg-dark icon-rain-snow icon-5\"><svg xmlns=\"http://www.w3.org/2000/svg\" xmlns:xlink=\"http://www.w3.org/1999/xlink\" viewBox=\"0 0 200 200\" class=\"svg-rain-snow\"><use class=\"svg-snowflake\" xlink:href=\"#svg-symbol-snowflake\" transform=\"matrix(.18 0 0 .18 49.5 122.4)\"/><use class=\"svg-drop\" xlink:href=\"#svg-symbol-drop\" transform=\"matrix(1.7 0 0 2 -27 -120)\"/><use class=\"svg-drop\" xlink:href=\"#svg-symbol-drop\" transform=\"translate(65 2)\"/><use class=\"svg-cloud\" xlink:href=\"#svg-symbol-cloud\" transform=\"translate(0 -41)\"/></svg></icon><div class=\"twc-table-shadow sticky\" className=\"twc-table-shadow sticky\"></div></div><span class=\"day-detail clearfix\">DEC 16</span></div></td><td class=\"description\" headers=\"description\" title=\"Cloudy with rain and snow showers. High near 40F. Winds WNW at 10 to 20 mph. Chance of rain 50%. Snow accumulations less than one inch.\" data-track-string=\"ls_24_hour_ls_24_hour_toggle\" className=\"description\"><span>Rain/Snow Showers</span></td><td class=\"temp\" headers=\"hi-lo\" title=\"Cloudy with rain and snow showers. High near 40F. Winds WNW at 10 to 20 mph. Chance of rain 50%. Snow accumulations less than one inch.\" data-track-string=\"ls_24_hour_ls_24_hour_toggle\" className=\"temp\"><div><span class=\"\">40<sup>°</sup></span><span class=\"slash\" className=\"slash\"></span><span class=\"\">30<sup>°</sup></span></div></td><td class=\"precip\" headers=\"precip\" title=\"Cloudy with rain and snow showers. High near 40F. Winds WNW at 10 to 20 mph. Chance of rain 50%. Snow accumulations less than one inch.\" data-track-string=\"ls_24_hour_ls_24_hour_toggle\" className=\"precip\"><div><span class=\"icon icon-font iconset-weather-data icon-drop-1\" className=\"icon icon-font iconset-weather-data icon-drop-1\"></span><span class=\"\"><span>50<span class=\"Percentage__percentSymbol__2Q_AR\">%</span></span></span></div></td><td class=\"wind\" headers=\"wind\" title=\"Cloudy with rain and snow showers. High near 40F. Winds WNW at 10 to 20 mph. Chance of rain 50%. Snow accumulations less than one inch.\" data-track-string=\"ls_24_hour_ls_24_hour_toggle\" className=\"wind\"><span class=\"\">WNW 15 mph </span></td><td class=\"humidity\" headers=\"humidity\" title=\"Cloudy with rain and snow showers. High near 40F. Winds WNW at 10 to 20 mph. Chance of rain 50%. Snow accumulations less than one inch.\" data-track-string=\"ls_24_hour_ls_24_hour_toggle\" className=\"humidity\"><span class=\"\"><span>64<span class=\"Percentage__percentSymbol__2Q_AR\">%</span></span></span></td></tr><tr class=\"clickable closed\" className=\"clickable closed\"><td class=\"twc-sticky-col cell-hide\"><div class=\"twc-table-shadow sticky\" className=\"twc-table-shadow sticky\"></div></td><td class=\"twc-sticky-col\" headers=\"day\" title=\"Sunshine and clouds mixed. High 41F. Winds WNW at 10 to 20 mph.\" data-track-string=\"ls_24_hour_ls_24_hour_toggle\" className=\"twc-sticky-col\"><div><div><span class=\"date-time\">Tue</span><icon class=\"icon icon-svg icon-svg-dark icon-partly-cloudy icon-30\" className=\"icon icon-svg icon-svg-dark icon-partly-cloudy icon-30\"><svg xmlns=\"http://www.w3.org/2000/svg\" xmlns:xlink=\"http://www.w3.org/1999/xlink\" viewBox=\"0 0 200 200\" class=\"svg-partly-cloudy\"><defs><mask id=\"partly-cloudy-mask\"><rect width=\"100%\" height=\"100%\" fill=\"#FFF\"/><use xlink:href=\"#svg-symbol-cloud\" transform=\"translate(3.571 -44.642) scale(1.7857)\" stroke=\"#000\" stroke-width=\"13\"/></mask></defs><use class=\"svg-sun\" xlink:href=\"#svg-symbol-sun\" transform=\"matrix(.56 0 0 .56 0 16.8)\" mask=\"url(#partly-cloudy-mask)\"/><use class=\"svg-cloud\" xlink:href=\"#svg-symbol-cloud\" transform=\"translate(0 -10)\"/></svg>\n",
      "</icon><div class=\"twc-table-shadow sticky\" className=\"twc-table-shadow sticky\"></div></div><span class=\"day-detail clearfix\">DEC 17</span></div></td><td class=\"description\" headers=\"description\" title=\"Sunshine and clouds mixed. High 41F. Winds WNW at 10 to 20 mph.\" data-track-string=\"ls_24_hour_ls_24_hour_toggle\" className=\"description\"><span>Partly Cloudy</span></td><td class=\"temp\" headers=\"hi-lo\" title=\"Sunshine and clouds mixed. High 41F. Winds WNW at 10 to 20 mph.\" data-track-string=\"ls_24_hour_ls_24_hour_toggle\" className=\"temp\"><div><span class=\"\">41<sup>°</sup></span><span class=\"slash\" className=\"slash\"></span><span class=\"\">30<sup>°</sup></span></div></td><td class=\"precip\" headers=\"precip\" title=\"Sunshine and clouds mixed. High 41F. Winds WNW at 10 to 20 mph.\" data-track-string=\"ls_24_hour_ls_24_hour_toggle\" className=\"precip\"><div><span class=\"icon icon-font iconset-weather-data icon-drop-1\" className=\"icon icon-font iconset-weather-data icon-drop-1\"></span><span class=\"\"><span>20<span class=\"Percentage__percentSymbol__2Q_AR\">%</span></span></span></div></td><td class=\"wind\" headers=\"wind\" title=\"Sunshine and clouds mixed. High 41F. Winds WNW at 10 to 20 mph.\" data-track-string=\"ls_24_hour_ls_24_hour_toggle\" className=\"wind\"><span class=\"\">WNW 15 mph </span></td><td class=\"humidity\" headers=\"humidity\" title=\"Sunshine and clouds mixed. High 41F. Winds WNW at 10 to 20 mph.\" data-track-string=\"ls_24_hour_ls_24_hour_toggle\" className=\"humidity\"><span class=\"\"><span>55<span class=\"Percentage__percentSymbol__2Q_AR\">%</span></span></span></td></tr><tr class=\"clickable closed\" className=\"clickable closed\"><td class=\"twc-sticky-col cell-hide\"><div class=\"twc-table-shadow sticky\" className=\"twc-table-shadow sticky\"></div></td><td class=\"twc-sticky-col\" headers=\"day\" title=\"Sunshine and clouds mixed. High 36F. Winds NW at 10 to 20 mph.\" data-track-string=\"ls_24_hour_ls_24_hour_toggle\" className=\"twc-sticky-col\"><div><div><span class=\"date-time\">Wed</span><icon class=\"icon icon-svg icon-svg-dark icon-partly-cloudy icon-30\" className=\"icon icon-svg icon-svg-dark icon-partly-cloudy icon-30\"><svg xmlns=\"http://www.w3.org/2000/svg\" xmlns:xlink=\"http://www.w3.org/1999/xlink\" viewBox=\"0 0 200 200\" class=\"svg-partly-cloudy\"><defs><mask id=\"partly-cloudy-mask\"><rect width=\"100%\" height=\"100%\" fill=\"#FFF\"/><use xlink:href=\"#svg-symbol-cloud\" transform=\"translate(3.571 -44.642) scale(1.7857)\" stroke=\"#000\" stroke-width=\"13\"/></mask></defs><use class=\"svg-sun\" xlink:href=\"#svg-symbol-sun\" transform=\"matrix(.56 0 0 .56 0 16.8)\" mask=\"url(#partly-cloudy-mask)\"/><use class=\"svg-cloud\" xlink:href=\"#svg-symbol-cloud\" transform=\"translate(0 -10)\"/></svg>\n",
      "</icon><div class=\"twc-table-shadow sticky\" className=\"twc-table-shadow sticky\"></div></div><span class=\"day-detail clearfix\">DEC 18</span></div></td><td class=\"description\" headers=\"description\" title=\"Sunshine and clouds mixed. High 36F. Winds NW at 10 to 20 mph.\" data-track-string=\"ls_24_hour_ls_24_hour_toggle\" className=\"description\"><span>Partly Cloudy</span></td><td class=\"temp\" headers=\"hi-lo\" title=\"Sunshine and clouds mixed. High 36F. Winds NW at 10 to 20 mph.\" data-track-string=\"ls_24_hour_ls_24_hour_toggle\" className=\"temp\"><div><span class=\"\">36<sup>°</sup></span><span class=\"slash\" className=\"slash\"></span><span class=\"\">27<sup>°</sup></span></div></td><td class=\"precip\" headers=\"precip\" title=\"Sunshine and clouds mixed. High 36F. Winds NW at 10 to 20 mph.\" data-track-string=\"ls_24_hour_ls_24_hour_toggle\" className=\"precip\"><div><span class=\"icon icon-font iconset-weather-data icon-drop-1\" className=\"icon icon-font iconset-weather-data icon-drop-1\"></span><span class=\"\"><span>20<span class=\"Percentage__percentSymbol__2Q_AR\">%</span></span></span></div></td><td class=\"wind\" headers=\"wind\" title=\"Sunshine and clouds mixed. High 36F. Winds NW at 10 to 20 mph.\" data-track-string=\"ls_24_hour_ls_24_hour_toggle\" className=\"wind\"><span class=\"\">NW 14 mph </span></td><td class=\"humidity\" headers=\"humidity\" title=\"Sunshine and clouds mixed. High 36F. Winds NW at 10 to 20 mph.\" data-track-string=\"ls_24_hour_ls_24_hour_toggle\" className=\"humidity\"><span class=\"\"><span>55<span class=\"Percentage__percentSymbol__2Q_AR\">%</span></span></span></td></tr></tbody></table></div></section></div></div><div id=\"main-Ad-a267ff4b-0e2a-4d17-9c37-c36fd4539c31\"><div><div class=\"wx-adWrapper  \" style=\"\" className=\"wx-adWrapper  \"><div class=\"ad_module\" id=\"MW_Position2\" className=\"ad_module\"></div></div></div></div><div id=\"main-Ad-e9e9ce9c-4fcf-4c99-99d7-856981ce4d59\"><div><div class=\"wx-adWrapper  \" style=\"\" className=\"wx-adWrapper  \"><div class=\"ad_module\" id=\"WX_MidLeader\" className=\"ad_module\"></div></div></div></div><div id=\"main-DailyMap-9aa677f1-a7a4-40d9-9d2c-6481429cf2a8\"><div><section class=\"dailyMap__wrapper panel\" className=\"dailyMap__wrapper panel\"><div class=\"dailyMap__header\"><div class=\"dailyMap__layerOpts\" className=\"dailyMap__layerOpts\"><ul class=\"overflowNavbar\" className=\"overflowNavbar\"><li class=\"overflowNavbar__listItem active hiddenMeasurable\" className=\"overflowNavbar__listItem active hiddenMeasurable\"><div class=\"overflowNavbar__link\" className=\"overflowNavbar__link\"><span>Weather</span></div></li><li class=\"overflowNavbar__listItem inactive hiddenMeasurable\" className=\"overflowNavbar__listItem inactive hiddenMeasurable\"><div class=\"overflowNavbar__link\" className=\"overflowNavbar__link\"><span>Temperature</span></div></li><li class=\"overflowNavbar__listItem inactive hiddenMeasurable\" className=\"overflowNavbar__listItem inactive hiddenMeasurable\"><div class=\"overflowNavbar__link\" className=\"overflowNavbar__link\"><span>Wind</span></div></li><li class=\"overflowNavbar__dropdown\" className=\"overflowNavbar__dropdown\"><button class=\"overflowNavbar__dropdown__toggle\" type=\"button\"><span>Weather</span><span class=\"icon icon-font iconset-arrows icon-arrow-down-triangle\" className=\"icon icon-font iconset-arrows icon-arrow-down-triangle\"></span></button><div class=\"popover popover__undefined overflowNavbar__dropdown__popover\" style=\"\" className=\"popover popover__undefined overflowNavbar__dropdown__popover\"><div class=\"popover__outline\" style=\"\" className=\"popover__outline\"></div><ul class=\"popover__inner\" style=\"\"><ul class=\"overflowNavbar__dropdown__popover__list\"><li class=\"overflowNavbar__listItem active\" className=\"overflowNavbar__listItem active\"><div class=\"overflowNavbar__link\" className=\"overflowNavbar__link\"><span>Weather</span></div></li><li class=\"overflowNavbar__listItem inactive\" className=\"overflowNavbar__listItem inactive\"><div class=\"overflowNavbar__link\" className=\"overflowNavbar__link\"><span>Temperature</span></div></li><li class=\"overflowNavbar__listItem inactive\" className=\"overflowNavbar__listItem inactive\"><div class=\"overflowNavbar__link\" className=\"overflowNavbar__link\"><span>Wind</span></div></li></ul></ul></div></li></ul></div></div><div class=\"dailyMap__main\"><div class=\"styles__placeholder__bbaHP\" style=\"padding-top:56.25%;\" className=\"styles__placeholder__bbaHP\"><div class=\"styles__background__1_FJh\" className=\"styles__background__1_FJh\"></div></div></div><div class=\"dailyMap__controls\"><div class=\"dailyMap__controls__step\"><div class=\"dailyMap__controls__step__arrow disabled\"><span class=\"icon icon-font iconset-arrows icon-arrow-left-triangle\" className=\"icon icon-font iconset-arrows icon-arrow-left-triangle\"></span></div><span class=\"dailyMap__controls__step__title\">Wednesday</span><div class=\"dailyMap__controls__step__arrow\"><span class=\"icon icon-font iconset-arrows icon-arrow-right-triangle\" className=\"icon icon-font iconset-arrows icon-arrow-right-triangle\"></span></div></div><div class=\"dailyMap__controls__slider\"><style>\n"
     ]
    }
   ],
   "source": [
    "conditions = []\n",
    "n = 0\n",
    "for line in lines:\n",
    "    if '<td class=\"temp\" headers=\"hi-lo\"' in line:\n",
    "        n += 1\n",
    "        # the first one we get is a today data, which we do not need it, so we pass it.\n",
    "        if n == 1:\n",
    "            continue\n",
    "        print(line)"
   ]
  },
  {
   "cell_type": "markdown",
   "metadata": {},
   "source": [
    "The result looks messy. We need to check if the line has only data of one day.<br/>\n",
    "So we need to find the day of each line."
   ]
  },
  {
   "cell_type": "code",
   "execution_count": 3,
   "metadata": {},
   "outputs": [
    {
     "name": "stdout",
     "output_type": "stream",
     "text": [
      "DEC 5\n",
      "DEC 8\n",
      "DEC 12\n",
      "DEC 13\n",
      "DEC 17\n",
      "DEC 18\n"
     ]
    }
   ],
   "source": [
    "n = 0\n",
    "for line in lines:\n",
    "    if '<td class=\"temp\" headers=\"hi-lo\"' in line:\n",
    "        n += 1\n",
    "        # the first one we get is a today data, which we do not need it, so we pass it.\n",
    "        if n == 1:\n",
    "            continue\n",
    "        # this line will spilt the first day it see in the line.\n",
    "        # if the line has more than one day, it will print only the first one\n",
    "        print(line.split('<span class=\"day-detail')[1].split(\"</span>\")[0].split('>')[1])"
   ]
  },
  {
   "cell_type": "markdown",
   "metadata": {},
   "source": [
    "Some days are missing from the result, and it means some lines contain more than one day of data.<br/>\n",
    "We need to split by \"</tr>\" and check the length of the split."
   ]
  },
  {
   "cell_type": "code",
   "execution_count": 4,
   "metadata": {},
   "outputs": [
    {
     "name": "stdout",
     "output_type": "stream",
     "text": [
      "DEC 5\n",
      "DEC 6\n",
      "DEC 7\n",
      "DEC 8\n",
      "DEC 9\n",
      "DEC 10\n",
      "DEC 11\n",
      "DEC 12\n",
      "DEC 13\n",
      "DEC 14\n",
      "DEC 15\n",
      "DEC 16\n",
      "DEC 17\n",
      "DEC 18\n"
     ]
    }
   ],
   "source": [
    "n = 0\n",
    "for line in lines:\n",
    "    if '<td class=\"temp\" headers=\"hi-lo\"' in line:\n",
    "        n += 1\n",
    "        # the first one we get is a today data, which we do not need it, so we pass it.\n",
    "        if n == 1:\n",
    "            continue\n",
    "        # if split line by tr and get more lenght 2 means there is more that one day in a line\n",
    "        if len(line.split(\"</tr>\")) == 2:\n",
    "            print(line.split('<span class=\"day-detail')[1].split(\"</span>\")[0].split('>')[1])\n",
    "        else :\n",
    "            # if the line have more than one day, we split it with tr and find the day in each tr\n",
    "            tr = line.split(\"</tr>\")\n",
    "            # for each tr in a line\n",
    "            for i in range(len(tr)):\n",
    "                # if not the last item find the day, the last item always not contain day\n",
    "                if i < len(tr) - 1:\n",
    "                    print(tr[i].split('<span class=\"day-detail')[1].split(\"</span>\")[0].split('>')[1])"
   ]
  },
  {
   "cell_type": "markdown",
   "metadata": {},
   "source": [
    "Now that we got all the dates. Let find the temperature."
   ]
  },
  {
   "cell_type": "code",
   "execution_count": 5,
   "metadata": {
    "scrolled": true
   },
   "outputs": [
    {
     "name": "stdout",
     "output_type": "stream",
     "text": [
      "day: DEC 5\n",
      "high:  43\n",
      "low:  27\n",
      "day: DEC 6\n",
      "high:  38\n",
      "low:  24\n",
      "day: DEC 7\n",
      "high:  30\n",
      "low:  16\n",
      "day: DEC 8\n",
      "high:  39\n",
      "low:  37\n",
      "day: DEC 9\n",
      "high:  53\n",
      "low:  52\n",
      "day: DEC 10\n",
      "high:  59\n",
      "low:  41\n",
      "day: DEC 11\n",
      "high:  43\n",
      "low:  23\n",
      "day: DEC 12\n",
      "high:  32\n",
      "low:  26\n",
      "day: DEC 13\n",
      "high:  40\n",
      "low:  34\n",
      "day: DEC 14\n",
      "high:  44\n",
      "low:  40\n",
      "day: DEC 15\n",
      "high:  45\n",
      "low:  36\n",
      "day: DEC 16\n",
      "high:  40\n",
      "low:  30\n",
      "day: DEC 17\n",
      "high:  41\n",
      "low:  30\n",
      "day: DEC 18\n",
      "high:  36\n",
      "low:  27\n"
     ]
    }
   ],
   "source": [
    "n = 0\n",
    "for line in lines:\n",
    "    if '<td class=\"temp\" headers=\"hi-lo\"' in line:\n",
    "        n += 1\n",
    "        # the first one we get is a today data, which we do not need it, so we pass it.\n",
    "        if n == 1:\n",
    "            continue\n",
    "        # if split line by tr and get more lenght 2 means there is more that one day in a line\n",
    "        # if there is only one day in the line we use normal split\n",
    "        if len(line.split(\"</tr>\")) == 2:\n",
    "            print('day:', line.split('<span class=\"day-detail')[1].split(\"</span>\")[0].split('>')[1])\n",
    "            print('high: ', line.split('<td class=\"temp\" headers=\"hi-lo\"')[1].split(\"</sup>\")[0].split('<span class=\"\">')[1].split('<sup>')[0])\n",
    "            print('low: ', line.split('<td class=\"temp\" headers=\"hi-lo\"')[1].split(\"</sup>\")[1].split('<span class=\"\">')[1].split('<sup>')[0])\n",
    "        else :\n",
    "            # if the line have more than one day, we split it with tr and find the day in each tr\n",
    "            tr = line.split(\"</tr>\")\n",
    "            # for each tr in a line\n",
    "            for i in range(len(tr)):\n",
    "                # if not the last item find the day, the last item always not contain day\n",
    "                if i < len(tr) - 1:\n",
    "                    print('day:', tr[i].split('<span class=\"day-detail')[1].split(\"</span>\")[0].split('>')[1])\n",
    "                    td = tr[i].split(\"hi-lo\")\n",
    "                    print('high: ', td[1].split(\"</sup>\")[0].split('<span class=\"\">')[1].split('<sup>')[0])\n",
    "                    print('low: ', td[1].split(\"</sup>\")[1].split('<span class=\"\">')[1].split('<sup>')[0])"
   ]
  },
  {
   "cell_type": "markdown",
   "metadata": {},
   "source": [
    "After we get all forecast weather as we need, we calculate the average temperature using a high and low temperature.<br/>\n",
    "Then we collect the result into a list of string for prediction and send to front-end side."
   ]
  },
  {
   "cell_type": "markdown",
   "metadata": {},
   "source": [
    "This is the final code for the application"
   ]
  },
  {
   "cell_type": "code",
   "execution_count": 6,
   "metadata": {},
   "outputs": [
    {
     "name": "stdout",
     "output_type": "stream",
     "text": [
      "[{'day': 'DEC 5', 'temp': 35.0}, {'day': 'DEC 6', 'temp': 31.0}, {'day': 'DEC 7', 'temp': 23.0}, {'day': 'DEC 8', 'temp': 38.0}, {'day': 'DEC 9', 'temp': 52.5}, {'day': 'DEC 10', 'temp': 50.0}, {'day': 'DEC 11', 'temp': 33.0}, {'day': 'DEC 12', 'temp': 29.0}, {'day': 'DEC 13', 'temp': 37.0}, {'day': 'DEC 14', 'temp': 42.0}, {'day': 'DEC 15', 'temp': 40.5}, {'day': 'DEC 16', 'temp': 35.0}, {'day': 'DEC 17', 'temp': 35.5}, {'day': 'DEC 18', 'temp': 31.5}]\n"
     ]
    }
   ],
   "source": [
    "import requests\n",
    "\n",
    "r = requests.get('https://weather.com/weather/tenday/l/Boston+MA?canonicalCityId=6320cadd3d539b434b5a45c094becf3edbe8ea88958185a2287a801115c9ae30')\n",
    "lines = r.text.split('\\n')\n",
    "\n",
    "conditions = []\n",
    "n = 0\n",
    "for line in lines:\n",
    "    if '<td class=\"temp\" headers=\"hi-lo\"' in line:\n",
    "        n += 1\n",
    "        if n == 1:\n",
    "            continue\n",
    "        condition = {}\n",
    "        if len(line.split(\"</tr>\")) == 2:\n",
    "            condition['day'] = line.split('<span class=\"day-detail')[1].split(\"</span>\")[0].split('>')[1]\n",
    "            hi = line.split('<td class=\"temp\" headers=\"hi-lo\"')[1].split(\"</sup>\")[0].split('<span class=\"\">')[1].split('<sup>')[0]\n",
    "            low = line.split('<td class=\"temp\" headers=\"hi-lo\"')[1].split(\"</sup>\")[1].split('<span class=\"\">')[1].split('<sup>')[0]\n",
    "            condition['temp'] = (float(hi)+float(low))/2\n",
    "            conditions.append(condition)\n",
    "        else :\n",
    "            tr = line.split(\"</tr>\")\n",
    "            for i in range(len(tr)):\n",
    "                condition = {}\n",
    "                if i < len(tr) - 1:\n",
    "                    condition['day'] = tr[i].split('<span class=\"day-detail')[1].split(\"</span>\")[0].split('>')[1]\n",
    "                    td = tr[i].split(\"hi-lo\")\n",
    "                    hi = td[1].split(\"</sup>\")[0].split('<span class=\"\">')[1].split('<sup>')[0]\n",
    "                    low = td[1].split(\"</sup>\")[1].split('<span class=\"\">')[1].split('<sup>')[0]\n",
    "                    condition['temp'] = (float(hi)+float(low))/2\n",
    "                    conditions.append(condition)\n",
    "print(conditions)"
   ]
  }
 ],
 "metadata": {
  "kernelspec": {
   "display_name": "Python 3",
   "language": "python",
   "name": "python3"
  },
  "language_info": {
   "codemirror_mode": {
    "name": "ipython",
    "version": 3
   },
   "file_extension": ".py",
   "mimetype": "text/x-python",
   "name": "python",
   "nbconvert_exporter": "python",
   "pygments_lexer": "ipython3",
   "version": "3.7.3"
  }
 },
 "nbformat": 4,
 "nbformat_minor": 2
}
