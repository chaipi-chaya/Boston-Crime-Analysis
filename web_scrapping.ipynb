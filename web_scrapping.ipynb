{
 "cells": [
  {
   "cell_type": "markdown",
   "metadata": {},
   "source": [
    "### get weather from https://weather.com/weather/tenday/l/Boston+MA?canonicalCityId=6320cadd3d539b434b5a45c094becf3edbe8ea88958185a2287a801115c9ae30"
   ]
  },
  {
   "cell_type": "code",
   "execution_count": 56,
   "metadata": {},
   "outputs": [
    {
     "name": "stdout",
     "output_type": "stream",
     "text": [
      "[{'day': 0, 'temp high': 59, 'temp low': 38}, {'day': 1, 'temp high': 51, 'temp low': 41}, {'day': 2, 'temp high': 47, 'temp low': 30}, {'day': 3, 'temp high': 39, 'temp low': 24}]\n"
     ]
    }
   ],
   "source": [
    "import requests\n",
    "\n",
    "r = requests.get('https://forecast.weather.gov/MapClick.php?lat=42.3587&lon=-71.0567')\n",
    "lines = r.text.split('\\n')\n",
    "\n",
    "dc = 0 # div count\n",
    "pc = 0 # row count\n",
    "cc = 0 # colum count\n",
    "conditions = []\n",
    "d = 0\n",
    "for line in lines:\n",
    "    if '<div class=\"tombstone-container\"' in line:\n",
    "        dc += 1\n",
    "    if '<p>' in line:\n",
    "        pc+=1\n",
    "    if 'temp' in line and dc == 1 :\n",
    "        check = line\n",
    "        if check.split('alt=\"')[1].split(\":\")[0] == 'Today':\n",
    "            n = 1\n",
    "        else: \n",
    "            n = 2\n",
    "    if 'temp' in line and dc > 0 and dc == n :\n",
    "        condition = {}\n",
    "        condition['day'] = d\n",
    "        condition['temp high'] = int(line.split('temp ')[1].split(' &deg;')[0][-2:])\n",
    "    if 'temp' in line and dc > 0 and dc == n+1 :\n",
    "        condition['temp low'] = int(line.split('temp ')[1].split(' &deg;')[0][-2:])\n",
    "        conditions.append(condition)\n",
    "        d += 1\n",
    "        n += 2\n",
    "print(conditions) \n",
    "    "
   ]
  },
  {
   "cell_type": "code",
   "execution_count": null,
   "metadata": {},
   "outputs": [],
   "source": []
  },
  {
   "cell_type": "code",
   "execution_count": null,
   "metadata": {},
   "outputs": [],
   "source": []
  },
  {
   "cell_type": "code",
   "execution_count": null,
   "metadata": {},
   "outputs": [],
   "source": []
  }
 ],
 "metadata": {
  "kernelspec": {
   "display_name": "Python 3",
   "language": "python",
   "name": "python3"
  },
  "language_info": {
   "codemirror_mode": {
    "name": "ipython",
    "version": 3
   },
   "file_extension": ".py",
   "mimetype": "text/x-python",
   "name": "python",
   "nbconvert_exporter": "python",
   "pygments_lexer": "ipython3",
   "version": "3.7.3"
  }
 },
 "nbformat": 4,
 "nbformat_minor": 2
}
